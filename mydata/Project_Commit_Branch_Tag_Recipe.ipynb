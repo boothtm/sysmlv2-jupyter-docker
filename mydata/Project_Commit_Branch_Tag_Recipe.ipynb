{
 "cells": [
  {
   "cell_type": "markdown",
   "id": "8f39f1a6",
   "metadata": {
    "tags": []
   },
   "source": [
    "# Initializing the SysML v2 API"
   ]
  },
  {
   "cell_type": "code",
   "execution_count": 7,
   "id": "9aa6fae4",
   "metadata": {},
   "outputs": [],
   "source": [
    "from __future__ import print_function\n",
    "\n",
    "import time\n",
    "import requests\n",
    "from pprint import pprint\n",
    "#import pandas as pd\n",
    "import json\n",
    "from datetime import datetime\n",
    "\n",
    "#host = \"<specify protocol://host:port of the server that is a provider of the SysML v2 REST/HTTP API\"\n",
    "host = \"http://127.0.0.1:9000\""
   ]
  },
  {
   "cell_type": "markdown",
   "id": "4db265c9",
   "metadata": {},
   "source": [
    "# Create a new project"
   ]
  },
  {
   "cell_type": "code",
   "execution_count": 8,
   "id": "41d325ac",
   "metadata": {},
   "outputs": [
    {
     "ename": "ConnectionError",
     "evalue": "HTTPConnectionPool(host='127.0.0.1', port=9000): Max retries exceeded with url: /projects (Caused by NewConnectionError('<urllib3.connection.HTTPConnection object at 0x7f1b24f45000>: Failed to establish a new connection: [Errno 111] Connection refused'))",
     "output_type": "error",
     "traceback": [
      "\u001b[0;31m---------------------------------------------------------------------------\u001b[0m",
      "\u001b[0;31mConnectionRefusedError\u001b[0m                    Traceback (most recent call last)",
      "File \u001b[0;32m~/conda/lib/python3.10/site-packages/urllib3/connection.py:174\u001b[0m, in \u001b[0;36mHTTPConnection._new_conn\u001b[0;34m(self)\u001b[0m\n\u001b[1;32m    173\u001b[0m \u001b[38;5;28;01mtry\u001b[39;00m:\n\u001b[0;32m--> 174\u001b[0m     conn \u001b[38;5;241m=\u001b[39m \u001b[43mconnection\u001b[49m\u001b[38;5;241;43m.\u001b[39;49m\u001b[43mcreate_connection\u001b[49m\u001b[43m(\u001b[49m\n\u001b[1;32m    175\u001b[0m \u001b[43m        \u001b[49m\u001b[43m(\u001b[49m\u001b[38;5;28;43mself\u001b[39;49m\u001b[38;5;241;43m.\u001b[39;49m\u001b[43m_dns_host\u001b[49m\u001b[43m,\u001b[49m\u001b[43m \u001b[49m\u001b[38;5;28;43mself\u001b[39;49m\u001b[38;5;241;43m.\u001b[39;49m\u001b[43mport\u001b[49m\u001b[43m)\u001b[49m\u001b[43m,\u001b[49m\u001b[43m \u001b[49m\u001b[38;5;28;43mself\u001b[39;49m\u001b[38;5;241;43m.\u001b[39;49m\u001b[43mtimeout\u001b[49m\u001b[43m,\u001b[49m\u001b[43m \u001b[49m\u001b[38;5;241;43m*\u001b[39;49m\u001b[38;5;241;43m*\u001b[39;49m\u001b[43mextra_kw\u001b[49m\n\u001b[1;32m    176\u001b[0m \u001b[43m    \u001b[49m\u001b[43m)\u001b[49m\n\u001b[1;32m    178\u001b[0m \u001b[38;5;28;01mexcept\u001b[39;00m SocketTimeout:\n",
      "File \u001b[0;32m~/conda/lib/python3.10/site-packages/urllib3/util/connection.py:95\u001b[0m, in \u001b[0;36mcreate_connection\u001b[0;34m(address, timeout, source_address, socket_options)\u001b[0m\n\u001b[1;32m     94\u001b[0m \u001b[38;5;28;01mif\u001b[39;00m err \u001b[38;5;129;01mis\u001b[39;00m \u001b[38;5;129;01mnot\u001b[39;00m \u001b[38;5;28;01mNone\u001b[39;00m:\n\u001b[0;32m---> 95\u001b[0m     \u001b[38;5;28;01mraise\u001b[39;00m err\n\u001b[1;32m     97\u001b[0m \u001b[38;5;28;01mraise\u001b[39;00m socket\u001b[38;5;241m.\u001b[39merror(\u001b[38;5;124m\"\u001b[39m\u001b[38;5;124mgetaddrinfo returns an empty list\u001b[39m\u001b[38;5;124m\"\u001b[39m)\n",
      "File \u001b[0;32m~/conda/lib/python3.10/site-packages/urllib3/util/connection.py:85\u001b[0m, in \u001b[0;36mcreate_connection\u001b[0;34m(address, timeout, source_address, socket_options)\u001b[0m\n\u001b[1;32m     84\u001b[0m     sock\u001b[38;5;241m.\u001b[39mbind(source_address)\n\u001b[0;32m---> 85\u001b[0m \u001b[43msock\u001b[49m\u001b[38;5;241;43m.\u001b[39;49m\u001b[43mconnect\u001b[49m\u001b[43m(\u001b[49m\u001b[43msa\u001b[49m\u001b[43m)\u001b[49m\n\u001b[1;32m     86\u001b[0m \u001b[38;5;28;01mreturn\u001b[39;00m sock\n",
      "\u001b[0;31mConnectionRefusedError\u001b[0m: [Errno 111] Connection refused",
      "\nDuring handling of the above exception, another exception occurred:\n",
      "\u001b[0;31mNewConnectionError\u001b[0m                        Traceback (most recent call last)",
      "File \u001b[0;32m~/conda/lib/python3.10/site-packages/urllib3/connectionpool.py:703\u001b[0m, in \u001b[0;36mHTTPConnectionPool.urlopen\u001b[0;34m(self, method, url, body, headers, retries, redirect, assert_same_host, timeout, pool_timeout, release_conn, chunked, body_pos, **response_kw)\u001b[0m\n\u001b[1;32m    702\u001b[0m \u001b[38;5;66;03m# Make the request on the httplib connection object.\u001b[39;00m\n\u001b[0;32m--> 703\u001b[0m httplib_response \u001b[38;5;241m=\u001b[39m \u001b[38;5;28;43mself\u001b[39;49m\u001b[38;5;241;43m.\u001b[39;49m\u001b[43m_make_request\u001b[49m\u001b[43m(\u001b[49m\n\u001b[1;32m    704\u001b[0m \u001b[43m    \u001b[49m\u001b[43mconn\u001b[49m\u001b[43m,\u001b[49m\n\u001b[1;32m    705\u001b[0m \u001b[43m    \u001b[49m\u001b[43mmethod\u001b[49m\u001b[43m,\u001b[49m\n\u001b[1;32m    706\u001b[0m \u001b[43m    \u001b[49m\u001b[43murl\u001b[49m\u001b[43m,\u001b[49m\n\u001b[1;32m    707\u001b[0m \u001b[43m    \u001b[49m\u001b[43mtimeout\u001b[49m\u001b[38;5;241;43m=\u001b[39;49m\u001b[43mtimeout_obj\u001b[49m\u001b[43m,\u001b[49m\n\u001b[1;32m    708\u001b[0m \u001b[43m    \u001b[49m\u001b[43mbody\u001b[49m\u001b[38;5;241;43m=\u001b[39;49m\u001b[43mbody\u001b[49m\u001b[43m,\u001b[49m\n\u001b[1;32m    709\u001b[0m \u001b[43m    \u001b[49m\u001b[43mheaders\u001b[49m\u001b[38;5;241;43m=\u001b[39;49m\u001b[43mheaders\u001b[49m\u001b[43m,\u001b[49m\n\u001b[1;32m    710\u001b[0m \u001b[43m    \u001b[49m\u001b[43mchunked\u001b[49m\u001b[38;5;241;43m=\u001b[39;49m\u001b[43mchunked\u001b[49m\u001b[43m,\u001b[49m\n\u001b[1;32m    711\u001b[0m \u001b[43m\u001b[49m\u001b[43m)\u001b[49m\n\u001b[1;32m    713\u001b[0m \u001b[38;5;66;03m# If we're going to release the connection in ``finally:``, then\u001b[39;00m\n\u001b[1;32m    714\u001b[0m \u001b[38;5;66;03m# the response doesn't need to know about the connection. Otherwise\u001b[39;00m\n\u001b[1;32m    715\u001b[0m \u001b[38;5;66;03m# it will also try to release it and we'll have a double-release\u001b[39;00m\n\u001b[1;32m    716\u001b[0m \u001b[38;5;66;03m# mess.\u001b[39;00m\n",
      "File \u001b[0;32m~/conda/lib/python3.10/site-packages/urllib3/connectionpool.py:398\u001b[0m, in \u001b[0;36mHTTPConnectionPool._make_request\u001b[0;34m(self, conn, method, url, timeout, chunked, **httplib_request_kw)\u001b[0m\n\u001b[1;32m    397\u001b[0m     \u001b[38;5;28;01melse\u001b[39;00m:\n\u001b[0;32m--> 398\u001b[0m         \u001b[43mconn\u001b[49m\u001b[38;5;241;43m.\u001b[39;49m\u001b[43mrequest\u001b[49m\u001b[43m(\u001b[49m\u001b[43mmethod\u001b[49m\u001b[43m,\u001b[49m\u001b[43m \u001b[49m\u001b[43murl\u001b[49m\u001b[43m,\u001b[49m\u001b[43m \u001b[49m\u001b[38;5;241;43m*\u001b[39;49m\u001b[38;5;241;43m*\u001b[39;49m\u001b[43mhttplib_request_kw\u001b[49m\u001b[43m)\u001b[49m\n\u001b[1;32m    400\u001b[0m \u001b[38;5;66;03m# We are swallowing BrokenPipeError (errno.EPIPE) since the server is\u001b[39;00m\n\u001b[1;32m    401\u001b[0m \u001b[38;5;66;03m# legitimately able to close the connection after sending a valid response.\u001b[39;00m\n\u001b[1;32m    402\u001b[0m \u001b[38;5;66;03m# With this behaviour, the received response is still readable.\u001b[39;00m\n",
      "File \u001b[0;32m~/conda/lib/python3.10/site-packages/urllib3/connection.py:239\u001b[0m, in \u001b[0;36mHTTPConnection.request\u001b[0;34m(self, method, url, body, headers)\u001b[0m\n\u001b[1;32m    238\u001b[0m     headers[\u001b[38;5;124m\"\u001b[39m\u001b[38;5;124mUser-Agent\u001b[39m\u001b[38;5;124m\"\u001b[39m] \u001b[38;5;241m=\u001b[39m _get_default_user_agent()\n\u001b[0;32m--> 239\u001b[0m \u001b[38;5;28;43msuper\u001b[39;49m\u001b[43m(\u001b[49m\u001b[43mHTTPConnection\u001b[49m\u001b[43m,\u001b[49m\u001b[43m \u001b[49m\u001b[38;5;28;43mself\u001b[39;49m\u001b[43m)\u001b[49m\u001b[38;5;241;43m.\u001b[39;49m\u001b[43mrequest\u001b[49m\u001b[43m(\u001b[49m\u001b[43mmethod\u001b[49m\u001b[43m,\u001b[49m\u001b[43m \u001b[49m\u001b[43murl\u001b[49m\u001b[43m,\u001b[49m\u001b[43m \u001b[49m\u001b[43mbody\u001b[49m\u001b[38;5;241;43m=\u001b[39;49m\u001b[43mbody\u001b[49m\u001b[43m,\u001b[49m\u001b[43m \u001b[49m\u001b[43mheaders\u001b[49m\u001b[38;5;241;43m=\u001b[39;49m\u001b[43mheaders\u001b[49m\u001b[43m)\u001b[49m\n",
      "File \u001b[0;32m~/conda/lib/python3.10/http/client.py:1282\u001b[0m, in \u001b[0;36mHTTPConnection.request\u001b[0;34m(self, method, url, body, headers, encode_chunked)\u001b[0m\n\u001b[1;32m   1281\u001b[0m \u001b[38;5;250m\u001b[39m\u001b[38;5;124;03m\"\"\"Send a complete request to the server.\"\"\"\u001b[39;00m\n\u001b[0;32m-> 1282\u001b[0m \u001b[38;5;28;43mself\u001b[39;49m\u001b[38;5;241;43m.\u001b[39;49m\u001b[43m_send_request\u001b[49m\u001b[43m(\u001b[49m\u001b[43mmethod\u001b[49m\u001b[43m,\u001b[49m\u001b[43m \u001b[49m\u001b[43murl\u001b[49m\u001b[43m,\u001b[49m\u001b[43m \u001b[49m\u001b[43mbody\u001b[49m\u001b[43m,\u001b[49m\u001b[43m \u001b[49m\u001b[43mheaders\u001b[49m\u001b[43m,\u001b[49m\u001b[43m \u001b[49m\u001b[43mencode_chunked\u001b[49m\u001b[43m)\u001b[49m\n",
      "File \u001b[0;32m~/conda/lib/python3.10/http/client.py:1328\u001b[0m, in \u001b[0;36mHTTPConnection._send_request\u001b[0;34m(self, method, url, body, headers, encode_chunked)\u001b[0m\n\u001b[1;32m   1327\u001b[0m     body \u001b[38;5;241m=\u001b[39m _encode(body, \u001b[38;5;124m'\u001b[39m\u001b[38;5;124mbody\u001b[39m\u001b[38;5;124m'\u001b[39m)\n\u001b[0;32m-> 1328\u001b[0m \u001b[38;5;28;43mself\u001b[39;49m\u001b[38;5;241;43m.\u001b[39;49m\u001b[43mendheaders\u001b[49m\u001b[43m(\u001b[49m\u001b[43mbody\u001b[49m\u001b[43m,\u001b[49m\u001b[43m \u001b[49m\u001b[43mencode_chunked\u001b[49m\u001b[38;5;241;43m=\u001b[39;49m\u001b[43mencode_chunked\u001b[49m\u001b[43m)\u001b[49m\n",
      "File \u001b[0;32m~/conda/lib/python3.10/http/client.py:1277\u001b[0m, in \u001b[0;36mHTTPConnection.endheaders\u001b[0;34m(self, message_body, encode_chunked)\u001b[0m\n\u001b[1;32m   1276\u001b[0m     \u001b[38;5;28;01mraise\u001b[39;00m CannotSendHeader()\n\u001b[0;32m-> 1277\u001b[0m \u001b[38;5;28;43mself\u001b[39;49m\u001b[38;5;241;43m.\u001b[39;49m\u001b[43m_send_output\u001b[49m\u001b[43m(\u001b[49m\u001b[43mmessage_body\u001b[49m\u001b[43m,\u001b[49m\u001b[43m \u001b[49m\u001b[43mencode_chunked\u001b[49m\u001b[38;5;241;43m=\u001b[39;49m\u001b[43mencode_chunked\u001b[49m\u001b[43m)\u001b[49m\n",
      "File \u001b[0;32m~/conda/lib/python3.10/http/client.py:1037\u001b[0m, in \u001b[0;36mHTTPConnection._send_output\u001b[0;34m(self, message_body, encode_chunked)\u001b[0m\n\u001b[1;32m   1036\u001b[0m \u001b[38;5;28;01mdel\u001b[39;00m \u001b[38;5;28mself\u001b[39m\u001b[38;5;241m.\u001b[39m_buffer[:]\n\u001b[0;32m-> 1037\u001b[0m \u001b[38;5;28;43mself\u001b[39;49m\u001b[38;5;241;43m.\u001b[39;49m\u001b[43msend\u001b[49m\u001b[43m(\u001b[49m\u001b[43mmsg\u001b[49m\u001b[43m)\u001b[49m\n\u001b[1;32m   1039\u001b[0m \u001b[38;5;28;01mif\u001b[39;00m message_body \u001b[38;5;129;01mis\u001b[39;00m \u001b[38;5;129;01mnot\u001b[39;00m \u001b[38;5;28;01mNone\u001b[39;00m:\n\u001b[1;32m   1040\u001b[0m \n\u001b[1;32m   1041\u001b[0m     \u001b[38;5;66;03m# create a consistent interface to message_body\u001b[39;00m\n",
      "File \u001b[0;32m~/conda/lib/python3.10/http/client.py:975\u001b[0m, in \u001b[0;36mHTTPConnection.send\u001b[0;34m(self, data)\u001b[0m\n\u001b[1;32m    974\u001b[0m \u001b[38;5;28;01mif\u001b[39;00m \u001b[38;5;28mself\u001b[39m\u001b[38;5;241m.\u001b[39mauto_open:\n\u001b[0;32m--> 975\u001b[0m     \u001b[38;5;28;43mself\u001b[39;49m\u001b[38;5;241;43m.\u001b[39;49m\u001b[43mconnect\u001b[49m\u001b[43m(\u001b[49m\u001b[43m)\u001b[49m\n\u001b[1;32m    976\u001b[0m \u001b[38;5;28;01melse\u001b[39;00m:\n",
      "File \u001b[0;32m~/conda/lib/python3.10/site-packages/urllib3/connection.py:205\u001b[0m, in \u001b[0;36mHTTPConnection.connect\u001b[0;34m(self)\u001b[0m\n\u001b[1;32m    204\u001b[0m \u001b[38;5;28;01mdef\u001b[39;00m \u001b[38;5;21mconnect\u001b[39m(\u001b[38;5;28mself\u001b[39m):\n\u001b[0;32m--> 205\u001b[0m     conn \u001b[38;5;241m=\u001b[39m \u001b[38;5;28;43mself\u001b[39;49m\u001b[38;5;241;43m.\u001b[39;49m\u001b[43m_new_conn\u001b[49m\u001b[43m(\u001b[49m\u001b[43m)\u001b[49m\n\u001b[1;32m    206\u001b[0m     \u001b[38;5;28mself\u001b[39m\u001b[38;5;241m.\u001b[39m_prepare_conn(conn)\n",
      "File \u001b[0;32m~/conda/lib/python3.10/site-packages/urllib3/connection.py:186\u001b[0m, in \u001b[0;36mHTTPConnection._new_conn\u001b[0;34m(self)\u001b[0m\n\u001b[1;32m    185\u001b[0m \u001b[38;5;28;01mexcept\u001b[39;00m SocketError \u001b[38;5;28;01mas\u001b[39;00m e:\n\u001b[0;32m--> 186\u001b[0m     \u001b[38;5;28;01mraise\u001b[39;00m NewConnectionError(\n\u001b[1;32m    187\u001b[0m         \u001b[38;5;28mself\u001b[39m, \u001b[38;5;124m\"\u001b[39m\u001b[38;5;124mFailed to establish a new connection: \u001b[39m\u001b[38;5;132;01m%s\u001b[39;00m\u001b[38;5;124m\"\u001b[39m \u001b[38;5;241m%\u001b[39m e\n\u001b[1;32m    188\u001b[0m     )\n\u001b[1;32m    190\u001b[0m \u001b[38;5;28;01mreturn\u001b[39;00m conn\n",
      "\u001b[0;31mNewConnectionError\u001b[0m: <urllib3.connection.HTTPConnection object at 0x7f1b24f45000>: Failed to establish a new connection: [Errno 111] Connection refused",
      "\nDuring handling of the above exception, another exception occurred:\n",
      "\u001b[0;31mMaxRetryError\u001b[0m                             Traceback (most recent call last)",
      "File \u001b[0;32m~/conda/lib/python3.10/site-packages/requests/adapters.py:489\u001b[0m, in \u001b[0;36mHTTPAdapter.send\u001b[0;34m(self, request, stream, timeout, verify, cert, proxies)\u001b[0m\n\u001b[1;32m    488\u001b[0m \u001b[38;5;28;01mif\u001b[39;00m \u001b[38;5;129;01mnot\u001b[39;00m chunked:\n\u001b[0;32m--> 489\u001b[0m     resp \u001b[38;5;241m=\u001b[39m \u001b[43mconn\u001b[49m\u001b[38;5;241;43m.\u001b[39;49m\u001b[43murlopen\u001b[49m\u001b[43m(\u001b[49m\n\u001b[1;32m    490\u001b[0m \u001b[43m        \u001b[49m\u001b[43mmethod\u001b[49m\u001b[38;5;241;43m=\u001b[39;49m\u001b[43mrequest\u001b[49m\u001b[38;5;241;43m.\u001b[39;49m\u001b[43mmethod\u001b[49m\u001b[43m,\u001b[49m\n\u001b[1;32m    491\u001b[0m \u001b[43m        \u001b[49m\u001b[43murl\u001b[49m\u001b[38;5;241;43m=\u001b[39;49m\u001b[43murl\u001b[49m\u001b[43m,\u001b[49m\n\u001b[1;32m    492\u001b[0m \u001b[43m        \u001b[49m\u001b[43mbody\u001b[49m\u001b[38;5;241;43m=\u001b[39;49m\u001b[43mrequest\u001b[49m\u001b[38;5;241;43m.\u001b[39;49m\u001b[43mbody\u001b[49m\u001b[43m,\u001b[49m\n\u001b[1;32m    493\u001b[0m \u001b[43m        \u001b[49m\u001b[43mheaders\u001b[49m\u001b[38;5;241;43m=\u001b[39;49m\u001b[43mrequest\u001b[49m\u001b[38;5;241;43m.\u001b[39;49m\u001b[43mheaders\u001b[49m\u001b[43m,\u001b[49m\n\u001b[1;32m    494\u001b[0m \u001b[43m        \u001b[49m\u001b[43mredirect\u001b[49m\u001b[38;5;241;43m=\u001b[39;49m\u001b[38;5;28;43;01mFalse\u001b[39;49;00m\u001b[43m,\u001b[49m\n\u001b[1;32m    495\u001b[0m \u001b[43m        \u001b[49m\u001b[43massert_same_host\u001b[49m\u001b[38;5;241;43m=\u001b[39;49m\u001b[38;5;28;43;01mFalse\u001b[39;49;00m\u001b[43m,\u001b[49m\n\u001b[1;32m    496\u001b[0m \u001b[43m        \u001b[49m\u001b[43mpreload_content\u001b[49m\u001b[38;5;241;43m=\u001b[39;49m\u001b[38;5;28;43;01mFalse\u001b[39;49;00m\u001b[43m,\u001b[49m\n\u001b[1;32m    497\u001b[0m \u001b[43m        \u001b[49m\u001b[43mdecode_content\u001b[49m\u001b[38;5;241;43m=\u001b[39;49m\u001b[38;5;28;43;01mFalse\u001b[39;49;00m\u001b[43m,\u001b[49m\n\u001b[1;32m    498\u001b[0m \u001b[43m        \u001b[49m\u001b[43mretries\u001b[49m\u001b[38;5;241;43m=\u001b[39;49m\u001b[38;5;28;43mself\u001b[39;49m\u001b[38;5;241;43m.\u001b[39;49m\u001b[43mmax_retries\u001b[49m\u001b[43m,\u001b[49m\n\u001b[1;32m    499\u001b[0m \u001b[43m        \u001b[49m\u001b[43mtimeout\u001b[49m\u001b[38;5;241;43m=\u001b[39;49m\u001b[43mtimeout\u001b[49m\u001b[43m,\u001b[49m\n\u001b[1;32m    500\u001b[0m \u001b[43m    \u001b[49m\u001b[43m)\u001b[49m\n\u001b[1;32m    502\u001b[0m \u001b[38;5;66;03m# Send the request.\u001b[39;00m\n\u001b[1;32m    503\u001b[0m \u001b[38;5;28;01melse\u001b[39;00m:\n",
      "File \u001b[0;32m~/conda/lib/python3.10/site-packages/urllib3/connectionpool.py:787\u001b[0m, in \u001b[0;36mHTTPConnectionPool.urlopen\u001b[0;34m(self, method, url, body, headers, retries, redirect, assert_same_host, timeout, pool_timeout, release_conn, chunked, body_pos, **response_kw)\u001b[0m\n\u001b[1;32m    785\u001b[0m     e \u001b[38;5;241m=\u001b[39m ProtocolError(\u001b[38;5;124m\"\u001b[39m\u001b[38;5;124mConnection aborted.\u001b[39m\u001b[38;5;124m\"\u001b[39m, e)\n\u001b[0;32m--> 787\u001b[0m retries \u001b[38;5;241m=\u001b[39m \u001b[43mretries\u001b[49m\u001b[38;5;241;43m.\u001b[39;49m\u001b[43mincrement\u001b[49m\u001b[43m(\u001b[49m\n\u001b[1;32m    788\u001b[0m \u001b[43m    \u001b[49m\u001b[43mmethod\u001b[49m\u001b[43m,\u001b[49m\u001b[43m \u001b[49m\u001b[43murl\u001b[49m\u001b[43m,\u001b[49m\u001b[43m \u001b[49m\u001b[43merror\u001b[49m\u001b[38;5;241;43m=\u001b[39;49m\u001b[43me\u001b[49m\u001b[43m,\u001b[49m\u001b[43m \u001b[49m\u001b[43m_pool\u001b[49m\u001b[38;5;241;43m=\u001b[39;49m\u001b[38;5;28;43mself\u001b[39;49m\u001b[43m,\u001b[49m\u001b[43m \u001b[49m\u001b[43m_stacktrace\u001b[49m\u001b[38;5;241;43m=\u001b[39;49m\u001b[43msys\u001b[49m\u001b[38;5;241;43m.\u001b[39;49m\u001b[43mexc_info\u001b[49m\u001b[43m(\u001b[49m\u001b[43m)\u001b[49m\u001b[43m[\u001b[49m\u001b[38;5;241;43m2\u001b[39;49m\u001b[43m]\u001b[49m\n\u001b[1;32m    789\u001b[0m \u001b[43m\u001b[49m\u001b[43m)\u001b[49m\n\u001b[1;32m    790\u001b[0m retries\u001b[38;5;241m.\u001b[39msleep()\n",
      "File \u001b[0;32m~/conda/lib/python3.10/site-packages/urllib3/util/retry.py:592\u001b[0m, in \u001b[0;36mRetry.increment\u001b[0;34m(self, method, url, response, error, _pool, _stacktrace)\u001b[0m\n\u001b[1;32m    591\u001b[0m \u001b[38;5;28;01mif\u001b[39;00m new_retry\u001b[38;5;241m.\u001b[39mis_exhausted():\n\u001b[0;32m--> 592\u001b[0m     \u001b[38;5;28;01mraise\u001b[39;00m MaxRetryError(_pool, url, error \u001b[38;5;129;01mor\u001b[39;00m ResponseError(cause))\n\u001b[1;32m    594\u001b[0m log\u001b[38;5;241m.\u001b[39mdebug(\u001b[38;5;124m\"\u001b[39m\u001b[38;5;124mIncremented Retry for (url=\u001b[39m\u001b[38;5;124m'\u001b[39m\u001b[38;5;132;01m%s\u001b[39;00m\u001b[38;5;124m'\u001b[39m\u001b[38;5;124m): \u001b[39m\u001b[38;5;132;01m%r\u001b[39;00m\u001b[38;5;124m\"\u001b[39m, url, new_retry)\n",
      "\u001b[0;31mMaxRetryError\u001b[0m: HTTPConnectionPool(host='127.0.0.1', port=9000): Max retries exceeded with url: /projects (Caused by NewConnectionError('<urllib3.connection.HTTPConnection object at 0x7f1b24f45000>: Failed to establish a new connection: [Errno 111] Connection refused'))",
      "\nDuring handling of the above exception, another exception occurred:\n",
      "\u001b[0;31mConnectionError\u001b[0m                           Traceback (most recent call last)",
      "Cell \u001b[0;32mIn[8], line 11\u001b[0m\n\u001b[1;32m      3\u001b[0m project_data \u001b[38;5;241m=\u001b[39m {\n\u001b[1;32m      4\u001b[0m   \u001b[38;5;124m\"\u001b[39m\u001b[38;5;124m@type\u001b[39m\u001b[38;5;124m\"\u001b[39m:\u001b[38;5;124m\"\u001b[39m\u001b[38;5;124mProject\u001b[39m\u001b[38;5;124m\"\u001b[39m,\n\u001b[1;32m      5\u001b[0m   \u001b[38;5;124m\"\u001b[39m\u001b[38;5;124mname\u001b[39m\u001b[38;5;124m\"\u001b[39m: project_name,\n\u001b[1;32m      6\u001b[0m   \u001b[38;5;124m\"\u001b[39m\u001b[38;5;124mdescription\u001b[39m\u001b[38;5;124m\"\u001b[39m: \u001b[38;5;124m\"\u001b[39m\u001b[38;5;124msimple NASA avionics example\u001b[39m\u001b[38;5;124m\"\u001b[39m\n\u001b[1;32m      7\u001b[0m }\n\u001b[1;32m      9\u001b[0m project_post_url \u001b[38;5;241m=\u001b[39m \u001b[38;5;124mf\u001b[39m\u001b[38;5;124m\"\u001b[39m\u001b[38;5;132;01m{\u001b[39;00mhost\u001b[38;5;132;01m}\u001b[39;00m\u001b[38;5;124m/projects\u001b[39m\u001b[38;5;124m\"\u001b[39m \n\u001b[0;32m---> 11\u001b[0m project_post_response \u001b[38;5;241m=\u001b[39m \u001b[43mrequests\u001b[49m\u001b[38;5;241;43m.\u001b[39;49m\u001b[43mpost\u001b[49m\u001b[43m(\u001b[49m\u001b[43mproject_post_url\u001b[49m\u001b[43m,\u001b[49m\u001b[43m \u001b[49m\n\u001b[1;32m     12\u001b[0m \u001b[43m                                      \u001b[49m\u001b[43mheaders\u001b[49m\u001b[38;5;241;43m=\u001b[39;49m\u001b[43m{\u001b[49m\u001b[38;5;124;43m\"\u001b[39;49m\u001b[38;5;124;43mContent-Type\u001b[39;49m\u001b[38;5;124;43m\"\u001b[39;49m\u001b[43m:\u001b[49m\u001b[43m \u001b[49m\u001b[38;5;124;43m\"\u001b[39;49m\u001b[38;5;124;43mapplication/json\u001b[39;49m\u001b[38;5;124;43m\"\u001b[39;49m\u001b[43m}\u001b[49m\u001b[43m,\u001b[49m\u001b[43m \u001b[49m\n\u001b[1;32m     13\u001b[0m \u001b[43m                                      \u001b[49m\u001b[43mdata\u001b[49m\u001b[38;5;241;43m=\u001b[39;49m\u001b[43mjson\u001b[49m\u001b[38;5;241;43m.\u001b[39;49m\u001b[43mdumps\u001b[49m\u001b[43m(\u001b[49m\u001b[43mproject_data\u001b[49m\u001b[43m)\u001b[49m\u001b[43m)\u001b[49m\n\u001b[1;32m     15\u001b[0m project_id \u001b[38;5;241m=\u001b[39m \u001b[38;5;124m\"\u001b[39m\u001b[38;5;124m\"\u001b[39m\n\u001b[1;32m     17\u001b[0m \u001b[38;5;28;01mif\u001b[39;00m project_post_response\u001b[38;5;241m.\u001b[39mstatus_code \u001b[38;5;241m==\u001b[39m \u001b[38;5;241m200\u001b[39m:\n",
      "File \u001b[0;32m~/conda/lib/python3.10/site-packages/requests/api.py:115\u001b[0m, in \u001b[0;36mpost\u001b[0;34m(url, data, json, **kwargs)\u001b[0m\n\u001b[1;32m    103\u001b[0m \u001b[38;5;28;01mdef\u001b[39;00m \u001b[38;5;21mpost\u001b[39m(url, data\u001b[38;5;241m=\u001b[39m\u001b[38;5;28;01mNone\u001b[39;00m, json\u001b[38;5;241m=\u001b[39m\u001b[38;5;28;01mNone\u001b[39;00m, \u001b[38;5;241m*\u001b[39m\u001b[38;5;241m*\u001b[39mkwargs):\n\u001b[1;32m    104\u001b[0m \u001b[38;5;250m    \u001b[39m\u001b[38;5;124mr\u001b[39m\u001b[38;5;124;03m\"\"\"Sends a POST request.\u001b[39;00m\n\u001b[1;32m    105\u001b[0m \n\u001b[1;32m    106\u001b[0m \u001b[38;5;124;03m    :param url: URL for the new :class:`Request` object.\u001b[39;00m\n\u001b[0;32m   (...)\u001b[0m\n\u001b[1;32m    112\u001b[0m \u001b[38;5;124;03m    :rtype: requests.Response\u001b[39;00m\n\u001b[1;32m    113\u001b[0m \u001b[38;5;124;03m    \"\"\"\u001b[39;00m\n\u001b[0;32m--> 115\u001b[0m     \u001b[38;5;28;01mreturn\u001b[39;00m \u001b[43mrequest\u001b[49m\u001b[43m(\u001b[49m\u001b[38;5;124;43m\"\u001b[39;49m\u001b[38;5;124;43mpost\u001b[39;49m\u001b[38;5;124;43m\"\u001b[39;49m\u001b[43m,\u001b[49m\u001b[43m \u001b[49m\u001b[43murl\u001b[49m\u001b[43m,\u001b[49m\u001b[43m \u001b[49m\u001b[43mdata\u001b[49m\u001b[38;5;241;43m=\u001b[39;49m\u001b[43mdata\u001b[49m\u001b[43m,\u001b[49m\u001b[43m \u001b[49m\u001b[43mjson\u001b[49m\u001b[38;5;241;43m=\u001b[39;49m\u001b[43mjson\u001b[49m\u001b[43m,\u001b[49m\u001b[43m \u001b[49m\u001b[38;5;241;43m*\u001b[39;49m\u001b[38;5;241;43m*\u001b[39;49m\u001b[43mkwargs\u001b[49m\u001b[43m)\u001b[49m\n",
      "File \u001b[0;32m~/conda/lib/python3.10/site-packages/requests/api.py:59\u001b[0m, in \u001b[0;36mrequest\u001b[0;34m(method, url, **kwargs)\u001b[0m\n\u001b[1;32m     55\u001b[0m \u001b[38;5;66;03m# By using the 'with' statement we are sure the session is closed, thus we\u001b[39;00m\n\u001b[1;32m     56\u001b[0m \u001b[38;5;66;03m# avoid leaving sockets open which can trigger a ResourceWarning in some\u001b[39;00m\n\u001b[1;32m     57\u001b[0m \u001b[38;5;66;03m# cases, and look like a memory leak in others.\u001b[39;00m\n\u001b[1;32m     58\u001b[0m \u001b[38;5;28;01mwith\u001b[39;00m sessions\u001b[38;5;241m.\u001b[39mSession() \u001b[38;5;28;01mas\u001b[39;00m session:\n\u001b[0;32m---> 59\u001b[0m     \u001b[38;5;28;01mreturn\u001b[39;00m \u001b[43msession\u001b[49m\u001b[38;5;241;43m.\u001b[39;49m\u001b[43mrequest\u001b[49m\u001b[43m(\u001b[49m\u001b[43mmethod\u001b[49m\u001b[38;5;241;43m=\u001b[39;49m\u001b[43mmethod\u001b[49m\u001b[43m,\u001b[49m\u001b[43m \u001b[49m\u001b[43murl\u001b[49m\u001b[38;5;241;43m=\u001b[39;49m\u001b[43murl\u001b[49m\u001b[43m,\u001b[49m\u001b[43m \u001b[49m\u001b[38;5;241;43m*\u001b[39;49m\u001b[38;5;241;43m*\u001b[39;49m\u001b[43mkwargs\u001b[49m\u001b[43m)\u001b[49m\n",
      "File \u001b[0;32m~/conda/lib/python3.10/site-packages/requests/sessions.py:587\u001b[0m, in \u001b[0;36mSession.request\u001b[0;34m(self, method, url, params, data, headers, cookies, files, auth, timeout, allow_redirects, proxies, hooks, stream, verify, cert, json)\u001b[0m\n\u001b[1;32m    582\u001b[0m send_kwargs \u001b[38;5;241m=\u001b[39m {\n\u001b[1;32m    583\u001b[0m     \u001b[38;5;124m\"\u001b[39m\u001b[38;5;124mtimeout\u001b[39m\u001b[38;5;124m\"\u001b[39m: timeout,\n\u001b[1;32m    584\u001b[0m     \u001b[38;5;124m\"\u001b[39m\u001b[38;5;124mallow_redirects\u001b[39m\u001b[38;5;124m\"\u001b[39m: allow_redirects,\n\u001b[1;32m    585\u001b[0m }\n\u001b[1;32m    586\u001b[0m send_kwargs\u001b[38;5;241m.\u001b[39mupdate(settings)\n\u001b[0;32m--> 587\u001b[0m resp \u001b[38;5;241m=\u001b[39m \u001b[38;5;28;43mself\u001b[39;49m\u001b[38;5;241;43m.\u001b[39;49m\u001b[43msend\u001b[49m\u001b[43m(\u001b[49m\u001b[43mprep\u001b[49m\u001b[43m,\u001b[49m\u001b[43m \u001b[49m\u001b[38;5;241;43m*\u001b[39;49m\u001b[38;5;241;43m*\u001b[39;49m\u001b[43msend_kwargs\u001b[49m\u001b[43m)\u001b[49m\n\u001b[1;32m    589\u001b[0m \u001b[38;5;28;01mreturn\u001b[39;00m resp\n",
      "File \u001b[0;32m~/conda/lib/python3.10/site-packages/requests/sessions.py:701\u001b[0m, in \u001b[0;36mSession.send\u001b[0;34m(self, request, **kwargs)\u001b[0m\n\u001b[1;32m    698\u001b[0m start \u001b[38;5;241m=\u001b[39m preferred_clock()\n\u001b[1;32m    700\u001b[0m \u001b[38;5;66;03m# Send the request\u001b[39;00m\n\u001b[0;32m--> 701\u001b[0m r \u001b[38;5;241m=\u001b[39m \u001b[43madapter\u001b[49m\u001b[38;5;241;43m.\u001b[39;49m\u001b[43msend\u001b[49m\u001b[43m(\u001b[49m\u001b[43mrequest\u001b[49m\u001b[43m,\u001b[49m\u001b[43m \u001b[49m\u001b[38;5;241;43m*\u001b[39;49m\u001b[38;5;241;43m*\u001b[39;49m\u001b[43mkwargs\u001b[49m\u001b[43m)\u001b[49m\n\u001b[1;32m    703\u001b[0m \u001b[38;5;66;03m# Total elapsed time of the request (approximately)\u001b[39;00m\n\u001b[1;32m    704\u001b[0m elapsed \u001b[38;5;241m=\u001b[39m preferred_clock() \u001b[38;5;241m-\u001b[39m start\n",
      "File \u001b[0;32m~/conda/lib/python3.10/site-packages/requests/adapters.py:565\u001b[0m, in \u001b[0;36mHTTPAdapter.send\u001b[0;34m(self, request, stream, timeout, verify, cert, proxies)\u001b[0m\n\u001b[1;32m    561\u001b[0m     \u001b[38;5;28;01mif\u001b[39;00m \u001b[38;5;28misinstance\u001b[39m(e\u001b[38;5;241m.\u001b[39mreason, _SSLError):\n\u001b[1;32m    562\u001b[0m         \u001b[38;5;66;03m# This branch is for urllib3 v1.22 and later.\u001b[39;00m\n\u001b[1;32m    563\u001b[0m         \u001b[38;5;28;01mraise\u001b[39;00m SSLError(e, request\u001b[38;5;241m=\u001b[39mrequest)\n\u001b[0;32m--> 565\u001b[0m     \u001b[38;5;28;01mraise\u001b[39;00m \u001b[38;5;167;01mConnectionError\u001b[39;00m(e, request\u001b[38;5;241m=\u001b[39mrequest)\n\u001b[1;32m    567\u001b[0m \u001b[38;5;28;01mexcept\u001b[39;00m ClosedPoolError \u001b[38;5;28;01mas\u001b[39;00m e:\n\u001b[1;32m    568\u001b[0m     \u001b[38;5;28;01mraise\u001b[39;00m \u001b[38;5;167;01mConnectionError\u001b[39;00m(e, request\u001b[38;5;241m=\u001b[39mrequest)\n",
      "\u001b[0;31mConnectionError\u001b[0m: HTTPConnectionPool(host='127.0.0.1', port=9000): Max retries exceeded with url: /projects (Caused by NewConnectionError('<urllib3.connection.HTTPConnection object at 0x7f1b24f45000>: Failed to establish a new connection: [Errno 111] Connection refused'))"
     ]
    }
   ],
   "source": [
    "timestamp = datetime.now()\n",
    "project_name = f\"Simple NASA Avionics - {timestamp}\"\n",
    "project_data = {\n",
    "  \"@type\":\"Project\",\n",
    "  \"name\": project_name,\n",
    "  \"description\": \"simple NASA avionics example\"\n",
    "}\n",
    "\n",
    "project_post_url = f\"{host}/projects\" \n",
    "\n",
    "project_post_response = requests.post(project_post_url, \n",
    "                                      headers={\"Content-Type\": \"application/json\"}, \n",
    "                                      data=json.dumps(project_data))\n",
    "\n",
    "project_id = \"\"\n",
    "\n",
    "if project_post_response.status_code == 200:\n",
    "    project_response_json = project_post_response.json()\n",
    "    pprint(project_response_json)\n",
    "    project_id = project_response_json['@id']\n",
    "    project_name = project_response_json['name']\n",
    "else:\n",
    "    pprint(f\"Problem in creating a new Spacecraft project at {timestamp}\")\n",
    "    pprint(project_post_response)"
   ]
  },
  {
   "cell_type": "markdown",
   "id": "5fb01189",
   "metadata": {},
   "source": [
    "# Get projects"
   ]
  },
  {
   "cell_type": "code",
   "execution_count": 3,
   "id": "a545f569",
   "metadata": {},
   "outputs": [
    {
     "ename": "ConnectionError",
     "evalue": "HTTPSConnectionPool(host='localhost', port=9000): Max retries exceeded with url: /projects (Caused by NewConnectionError('<urllib3.connection.HTTPSConnection object at 0x7f1b377a0790>: Failed to establish a new connection: [Errno 111] Connection refused'))",
     "output_type": "error",
     "traceback": [
      "\u001b[0;31m---------------------------------------------------------------------------\u001b[0m",
      "\u001b[0;31mConnectionRefusedError\u001b[0m                    Traceback (most recent call last)",
      "File \u001b[0;32m~/conda/lib/python3.10/site-packages/urllib3/connection.py:174\u001b[0m, in \u001b[0;36mHTTPConnection._new_conn\u001b[0;34m(self)\u001b[0m\n\u001b[1;32m    173\u001b[0m \u001b[38;5;28;01mtry\u001b[39;00m:\n\u001b[0;32m--> 174\u001b[0m     conn \u001b[38;5;241m=\u001b[39m \u001b[43mconnection\u001b[49m\u001b[38;5;241;43m.\u001b[39;49m\u001b[43mcreate_connection\u001b[49m\u001b[43m(\u001b[49m\n\u001b[1;32m    175\u001b[0m \u001b[43m        \u001b[49m\u001b[43m(\u001b[49m\u001b[38;5;28;43mself\u001b[39;49m\u001b[38;5;241;43m.\u001b[39;49m\u001b[43m_dns_host\u001b[49m\u001b[43m,\u001b[49m\u001b[43m \u001b[49m\u001b[38;5;28;43mself\u001b[39;49m\u001b[38;5;241;43m.\u001b[39;49m\u001b[43mport\u001b[49m\u001b[43m)\u001b[49m\u001b[43m,\u001b[49m\u001b[43m \u001b[49m\u001b[38;5;28;43mself\u001b[39;49m\u001b[38;5;241;43m.\u001b[39;49m\u001b[43mtimeout\u001b[49m\u001b[43m,\u001b[49m\u001b[43m \u001b[49m\u001b[38;5;241;43m*\u001b[39;49m\u001b[38;5;241;43m*\u001b[39;49m\u001b[43mextra_kw\u001b[49m\n\u001b[1;32m    176\u001b[0m \u001b[43m    \u001b[49m\u001b[43m)\u001b[49m\n\u001b[1;32m    178\u001b[0m \u001b[38;5;28;01mexcept\u001b[39;00m SocketTimeout:\n",
      "File \u001b[0;32m~/conda/lib/python3.10/site-packages/urllib3/util/connection.py:95\u001b[0m, in \u001b[0;36mcreate_connection\u001b[0;34m(address, timeout, source_address, socket_options)\u001b[0m\n\u001b[1;32m     94\u001b[0m \u001b[38;5;28;01mif\u001b[39;00m err \u001b[38;5;129;01mis\u001b[39;00m \u001b[38;5;129;01mnot\u001b[39;00m \u001b[38;5;28;01mNone\u001b[39;00m:\n\u001b[0;32m---> 95\u001b[0m     \u001b[38;5;28;01mraise\u001b[39;00m err\n\u001b[1;32m     97\u001b[0m \u001b[38;5;28;01mraise\u001b[39;00m socket\u001b[38;5;241m.\u001b[39merror(\u001b[38;5;124m\"\u001b[39m\u001b[38;5;124mgetaddrinfo returns an empty list\u001b[39m\u001b[38;5;124m\"\u001b[39m)\n",
      "File \u001b[0;32m~/conda/lib/python3.10/site-packages/urllib3/util/connection.py:85\u001b[0m, in \u001b[0;36mcreate_connection\u001b[0;34m(address, timeout, source_address, socket_options)\u001b[0m\n\u001b[1;32m     84\u001b[0m     sock\u001b[38;5;241m.\u001b[39mbind(source_address)\n\u001b[0;32m---> 85\u001b[0m \u001b[43msock\u001b[49m\u001b[38;5;241;43m.\u001b[39;49m\u001b[43mconnect\u001b[49m\u001b[43m(\u001b[49m\u001b[43msa\u001b[49m\u001b[43m)\u001b[49m\n\u001b[1;32m     86\u001b[0m \u001b[38;5;28;01mreturn\u001b[39;00m sock\n",
      "\u001b[0;31mConnectionRefusedError\u001b[0m: [Errno 111] Connection refused",
      "\nDuring handling of the above exception, another exception occurred:\n",
      "\u001b[0;31mNewConnectionError\u001b[0m                        Traceback (most recent call last)",
      "File \u001b[0;32m~/conda/lib/python3.10/site-packages/urllib3/connectionpool.py:703\u001b[0m, in \u001b[0;36mHTTPConnectionPool.urlopen\u001b[0;34m(self, method, url, body, headers, retries, redirect, assert_same_host, timeout, pool_timeout, release_conn, chunked, body_pos, **response_kw)\u001b[0m\n\u001b[1;32m    702\u001b[0m \u001b[38;5;66;03m# Make the request on the httplib connection object.\u001b[39;00m\n\u001b[0;32m--> 703\u001b[0m httplib_response \u001b[38;5;241m=\u001b[39m \u001b[38;5;28;43mself\u001b[39;49m\u001b[38;5;241;43m.\u001b[39;49m\u001b[43m_make_request\u001b[49m\u001b[43m(\u001b[49m\n\u001b[1;32m    704\u001b[0m \u001b[43m    \u001b[49m\u001b[43mconn\u001b[49m\u001b[43m,\u001b[49m\n\u001b[1;32m    705\u001b[0m \u001b[43m    \u001b[49m\u001b[43mmethod\u001b[49m\u001b[43m,\u001b[49m\n\u001b[1;32m    706\u001b[0m \u001b[43m    \u001b[49m\u001b[43murl\u001b[49m\u001b[43m,\u001b[49m\n\u001b[1;32m    707\u001b[0m \u001b[43m    \u001b[49m\u001b[43mtimeout\u001b[49m\u001b[38;5;241;43m=\u001b[39;49m\u001b[43mtimeout_obj\u001b[49m\u001b[43m,\u001b[49m\n\u001b[1;32m    708\u001b[0m \u001b[43m    \u001b[49m\u001b[43mbody\u001b[49m\u001b[38;5;241;43m=\u001b[39;49m\u001b[43mbody\u001b[49m\u001b[43m,\u001b[49m\n\u001b[1;32m    709\u001b[0m \u001b[43m    \u001b[49m\u001b[43mheaders\u001b[49m\u001b[38;5;241;43m=\u001b[39;49m\u001b[43mheaders\u001b[49m\u001b[43m,\u001b[49m\n\u001b[1;32m    710\u001b[0m \u001b[43m    \u001b[49m\u001b[43mchunked\u001b[49m\u001b[38;5;241;43m=\u001b[39;49m\u001b[43mchunked\u001b[49m\u001b[43m,\u001b[49m\n\u001b[1;32m    711\u001b[0m \u001b[43m\u001b[49m\u001b[43m)\u001b[49m\n\u001b[1;32m    713\u001b[0m \u001b[38;5;66;03m# If we're going to release the connection in ``finally:``, then\u001b[39;00m\n\u001b[1;32m    714\u001b[0m \u001b[38;5;66;03m# the response doesn't need to know about the connection. Otherwise\u001b[39;00m\n\u001b[1;32m    715\u001b[0m \u001b[38;5;66;03m# it will also try to release it and we'll have a double-release\u001b[39;00m\n\u001b[1;32m    716\u001b[0m \u001b[38;5;66;03m# mess.\u001b[39;00m\n",
      "File \u001b[0;32m~/conda/lib/python3.10/site-packages/urllib3/connectionpool.py:386\u001b[0m, in \u001b[0;36mHTTPConnectionPool._make_request\u001b[0;34m(self, conn, method, url, timeout, chunked, **httplib_request_kw)\u001b[0m\n\u001b[1;32m    385\u001b[0m \u001b[38;5;28;01mtry\u001b[39;00m:\n\u001b[0;32m--> 386\u001b[0m     \u001b[38;5;28;43mself\u001b[39;49m\u001b[38;5;241;43m.\u001b[39;49m\u001b[43m_validate_conn\u001b[49m\u001b[43m(\u001b[49m\u001b[43mconn\u001b[49m\u001b[43m)\u001b[49m\n\u001b[1;32m    387\u001b[0m \u001b[38;5;28;01mexcept\u001b[39;00m (SocketTimeout, BaseSSLError) \u001b[38;5;28;01mas\u001b[39;00m e:\n\u001b[1;32m    388\u001b[0m     \u001b[38;5;66;03m# Py2 raises this as a BaseSSLError, Py3 raises it as socket timeout.\u001b[39;00m\n",
      "File \u001b[0;32m~/conda/lib/python3.10/site-packages/urllib3/connectionpool.py:1042\u001b[0m, in \u001b[0;36mHTTPSConnectionPool._validate_conn\u001b[0;34m(self, conn)\u001b[0m\n\u001b[1;32m   1041\u001b[0m \u001b[38;5;28;01mif\u001b[39;00m \u001b[38;5;129;01mnot\u001b[39;00m \u001b[38;5;28mgetattr\u001b[39m(conn, \u001b[38;5;124m\"\u001b[39m\u001b[38;5;124msock\u001b[39m\u001b[38;5;124m\"\u001b[39m, \u001b[38;5;28;01mNone\u001b[39;00m):  \u001b[38;5;66;03m# AppEngine might not have  `.sock`\u001b[39;00m\n\u001b[0;32m-> 1042\u001b[0m     \u001b[43mconn\u001b[49m\u001b[38;5;241;43m.\u001b[39;49m\u001b[43mconnect\u001b[49m\u001b[43m(\u001b[49m\u001b[43m)\u001b[49m\n\u001b[1;32m   1044\u001b[0m \u001b[38;5;28;01mif\u001b[39;00m \u001b[38;5;129;01mnot\u001b[39;00m conn\u001b[38;5;241m.\u001b[39mis_verified:\n",
      "File \u001b[0;32m~/conda/lib/python3.10/site-packages/urllib3/connection.py:358\u001b[0m, in \u001b[0;36mHTTPSConnection.connect\u001b[0;34m(self)\u001b[0m\n\u001b[1;32m    356\u001b[0m \u001b[38;5;28;01mdef\u001b[39;00m \u001b[38;5;21mconnect\u001b[39m(\u001b[38;5;28mself\u001b[39m):\n\u001b[1;32m    357\u001b[0m     \u001b[38;5;66;03m# Add certificate verification\u001b[39;00m\n\u001b[0;32m--> 358\u001b[0m     \u001b[38;5;28mself\u001b[39m\u001b[38;5;241m.\u001b[39msock \u001b[38;5;241m=\u001b[39m conn \u001b[38;5;241m=\u001b[39m \u001b[38;5;28;43mself\u001b[39;49m\u001b[38;5;241;43m.\u001b[39;49m\u001b[43m_new_conn\u001b[49m\u001b[43m(\u001b[49m\u001b[43m)\u001b[49m\n\u001b[1;32m    359\u001b[0m     hostname \u001b[38;5;241m=\u001b[39m \u001b[38;5;28mself\u001b[39m\u001b[38;5;241m.\u001b[39mhost\n",
      "File \u001b[0;32m~/conda/lib/python3.10/site-packages/urllib3/connection.py:186\u001b[0m, in \u001b[0;36mHTTPConnection._new_conn\u001b[0;34m(self)\u001b[0m\n\u001b[1;32m    185\u001b[0m \u001b[38;5;28;01mexcept\u001b[39;00m SocketError \u001b[38;5;28;01mas\u001b[39;00m e:\n\u001b[0;32m--> 186\u001b[0m     \u001b[38;5;28;01mraise\u001b[39;00m NewConnectionError(\n\u001b[1;32m    187\u001b[0m         \u001b[38;5;28mself\u001b[39m, \u001b[38;5;124m\"\u001b[39m\u001b[38;5;124mFailed to establish a new connection: \u001b[39m\u001b[38;5;132;01m%s\u001b[39;00m\u001b[38;5;124m\"\u001b[39m \u001b[38;5;241m%\u001b[39m e\n\u001b[1;32m    188\u001b[0m     )\n\u001b[1;32m    190\u001b[0m \u001b[38;5;28;01mreturn\u001b[39;00m conn\n",
      "\u001b[0;31mNewConnectionError\u001b[0m: <urllib3.connection.HTTPSConnection object at 0x7f1b377a0790>: Failed to establish a new connection: [Errno 111] Connection refused",
      "\nDuring handling of the above exception, another exception occurred:\n",
      "\u001b[0;31mMaxRetryError\u001b[0m                             Traceback (most recent call last)",
      "File \u001b[0;32m~/conda/lib/python3.10/site-packages/requests/adapters.py:489\u001b[0m, in \u001b[0;36mHTTPAdapter.send\u001b[0;34m(self, request, stream, timeout, verify, cert, proxies)\u001b[0m\n\u001b[1;32m    488\u001b[0m \u001b[38;5;28;01mif\u001b[39;00m \u001b[38;5;129;01mnot\u001b[39;00m chunked:\n\u001b[0;32m--> 489\u001b[0m     resp \u001b[38;5;241m=\u001b[39m \u001b[43mconn\u001b[49m\u001b[38;5;241;43m.\u001b[39;49m\u001b[43murlopen\u001b[49m\u001b[43m(\u001b[49m\n\u001b[1;32m    490\u001b[0m \u001b[43m        \u001b[49m\u001b[43mmethod\u001b[49m\u001b[38;5;241;43m=\u001b[39;49m\u001b[43mrequest\u001b[49m\u001b[38;5;241;43m.\u001b[39;49m\u001b[43mmethod\u001b[49m\u001b[43m,\u001b[49m\n\u001b[1;32m    491\u001b[0m \u001b[43m        \u001b[49m\u001b[43murl\u001b[49m\u001b[38;5;241;43m=\u001b[39;49m\u001b[43murl\u001b[49m\u001b[43m,\u001b[49m\n\u001b[1;32m    492\u001b[0m \u001b[43m        \u001b[49m\u001b[43mbody\u001b[49m\u001b[38;5;241;43m=\u001b[39;49m\u001b[43mrequest\u001b[49m\u001b[38;5;241;43m.\u001b[39;49m\u001b[43mbody\u001b[49m\u001b[43m,\u001b[49m\n\u001b[1;32m    493\u001b[0m \u001b[43m        \u001b[49m\u001b[43mheaders\u001b[49m\u001b[38;5;241;43m=\u001b[39;49m\u001b[43mrequest\u001b[49m\u001b[38;5;241;43m.\u001b[39;49m\u001b[43mheaders\u001b[49m\u001b[43m,\u001b[49m\n\u001b[1;32m    494\u001b[0m \u001b[43m        \u001b[49m\u001b[43mredirect\u001b[49m\u001b[38;5;241;43m=\u001b[39;49m\u001b[38;5;28;43;01mFalse\u001b[39;49;00m\u001b[43m,\u001b[49m\n\u001b[1;32m    495\u001b[0m \u001b[43m        \u001b[49m\u001b[43massert_same_host\u001b[49m\u001b[38;5;241;43m=\u001b[39;49m\u001b[38;5;28;43;01mFalse\u001b[39;49;00m\u001b[43m,\u001b[49m\n\u001b[1;32m    496\u001b[0m \u001b[43m        \u001b[49m\u001b[43mpreload_content\u001b[49m\u001b[38;5;241;43m=\u001b[39;49m\u001b[38;5;28;43;01mFalse\u001b[39;49;00m\u001b[43m,\u001b[49m\n\u001b[1;32m    497\u001b[0m \u001b[43m        \u001b[49m\u001b[43mdecode_content\u001b[49m\u001b[38;5;241;43m=\u001b[39;49m\u001b[38;5;28;43;01mFalse\u001b[39;49;00m\u001b[43m,\u001b[49m\n\u001b[1;32m    498\u001b[0m \u001b[43m        \u001b[49m\u001b[43mretries\u001b[49m\u001b[38;5;241;43m=\u001b[39;49m\u001b[38;5;28;43mself\u001b[39;49m\u001b[38;5;241;43m.\u001b[39;49m\u001b[43mmax_retries\u001b[49m\u001b[43m,\u001b[49m\n\u001b[1;32m    499\u001b[0m \u001b[43m        \u001b[49m\u001b[43mtimeout\u001b[49m\u001b[38;5;241;43m=\u001b[39;49m\u001b[43mtimeout\u001b[49m\u001b[43m,\u001b[49m\n\u001b[1;32m    500\u001b[0m \u001b[43m    \u001b[49m\u001b[43m)\u001b[49m\n\u001b[1;32m    502\u001b[0m \u001b[38;5;66;03m# Send the request.\u001b[39;00m\n\u001b[1;32m    503\u001b[0m \u001b[38;5;28;01melse\u001b[39;00m:\n",
      "File \u001b[0;32m~/conda/lib/python3.10/site-packages/urllib3/connectionpool.py:787\u001b[0m, in \u001b[0;36mHTTPConnectionPool.urlopen\u001b[0;34m(self, method, url, body, headers, retries, redirect, assert_same_host, timeout, pool_timeout, release_conn, chunked, body_pos, **response_kw)\u001b[0m\n\u001b[1;32m    785\u001b[0m     e \u001b[38;5;241m=\u001b[39m ProtocolError(\u001b[38;5;124m\"\u001b[39m\u001b[38;5;124mConnection aborted.\u001b[39m\u001b[38;5;124m\"\u001b[39m, e)\n\u001b[0;32m--> 787\u001b[0m retries \u001b[38;5;241m=\u001b[39m \u001b[43mretries\u001b[49m\u001b[38;5;241;43m.\u001b[39;49m\u001b[43mincrement\u001b[49m\u001b[43m(\u001b[49m\n\u001b[1;32m    788\u001b[0m \u001b[43m    \u001b[49m\u001b[43mmethod\u001b[49m\u001b[43m,\u001b[49m\u001b[43m \u001b[49m\u001b[43murl\u001b[49m\u001b[43m,\u001b[49m\u001b[43m \u001b[49m\u001b[43merror\u001b[49m\u001b[38;5;241;43m=\u001b[39;49m\u001b[43me\u001b[49m\u001b[43m,\u001b[49m\u001b[43m \u001b[49m\u001b[43m_pool\u001b[49m\u001b[38;5;241;43m=\u001b[39;49m\u001b[38;5;28;43mself\u001b[39;49m\u001b[43m,\u001b[49m\u001b[43m \u001b[49m\u001b[43m_stacktrace\u001b[49m\u001b[38;5;241;43m=\u001b[39;49m\u001b[43msys\u001b[49m\u001b[38;5;241;43m.\u001b[39;49m\u001b[43mexc_info\u001b[49m\u001b[43m(\u001b[49m\u001b[43m)\u001b[49m\u001b[43m[\u001b[49m\u001b[38;5;241;43m2\u001b[39;49m\u001b[43m]\u001b[49m\n\u001b[1;32m    789\u001b[0m \u001b[43m\u001b[49m\u001b[43m)\u001b[49m\n\u001b[1;32m    790\u001b[0m retries\u001b[38;5;241m.\u001b[39msleep()\n",
      "File \u001b[0;32m~/conda/lib/python3.10/site-packages/urllib3/util/retry.py:592\u001b[0m, in \u001b[0;36mRetry.increment\u001b[0;34m(self, method, url, response, error, _pool, _stacktrace)\u001b[0m\n\u001b[1;32m    591\u001b[0m \u001b[38;5;28;01mif\u001b[39;00m new_retry\u001b[38;5;241m.\u001b[39mis_exhausted():\n\u001b[0;32m--> 592\u001b[0m     \u001b[38;5;28;01mraise\u001b[39;00m MaxRetryError(_pool, url, error \u001b[38;5;129;01mor\u001b[39;00m ResponseError(cause))\n\u001b[1;32m    594\u001b[0m log\u001b[38;5;241m.\u001b[39mdebug(\u001b[38;5;124m\"\u001b[39m\u001b[38;5;124mIncremented Retry for (url=\u001b[39m\u001b[38;5;124m'\u001b[39m\u001b[38;5;132;01m%s\u001b[39;00m\u001b[38;5;124m'\u001b[39m\u001b[38;5;124m): \u001b[39m\u001b[38;5;132;01m%r\u001b[39;00m\u001b[38;5;124m\"\u001b[39m, url, new_retry)\n",
      "\u001b[0;31mMaxRetryError\u001b[0m: HTTPSConnectionPool(host='localhost', port=9000): Max retries exceeded with url: /projects (Caused by NewConnectionError('<urllib3.connection.HTTPSConnection object at 0x7f1b377a0790>: Failed to establish a new connection: [Errno 111] Connection refused'))",
      "\nDuring handling of the above exception, another exception occurred:\n",
      "\u001b[0;31mConnectionError\u001b[0m                           Traceback (most recent call last)",
      "Cell \u001b[0;32mIn[3], line 2\u001b[0m\n\u001b[1;32m      1\u001b[0m projects_url \u001b[38;5;241m=\u001b[39m \u001b[38;5;124mf\u001b[39m\u001b[38;5;124m\"\u001b[39m\u001b[38;5;132;01m{\u001b[39;00mhost\u001b[38;5;132;01m}\u001b[39;00m\u001b[38;5;124m/projects\u001b[39m\u001b[38;5;124m\"\u001b[39m \n\u001b[0;32m----> 2\u001b[0m projects_response \u001b[38;5;241m=\u001b[39m \u001b[43mrequests\u001b[49m\u001b[38;5;241;43m.\u001b[39;49m\u001b[43mget\u001b[49m\u001b[43m(\u001b[49m\u001b[43mprojects_url\u001b[49m\u001b[43m)\u001b[49m\n\u001b[1;32m      4\u001b[0m \u001b[38;5;28;01mif\u001b[39;00m projects_response\u001b[38;5;241m.\u001b[39mstatus_code \u001b[38;5;241m==\u001b[39m \u001b[38;5;241m200\u001b[39m:\n\u001b[1;32m      5\u001b[0m     projects \u001b[38;5;241m=\u001b[39m projects_response\u001b[38;5;241m.\u001b[39mjson()\n",
      "File \u001b[0;32m~/conda/lib/python3.10/site-packages/requests/api.py:73\u001b[0m, in \u001b[0;36mget\u001b[0;34m(url, params, **kwargs)\u001b[0m\n\u001b[1;32m     62\u001b[0m \u001b[38;5;28;01mdef\u001b[39;00m \u001b[38;5;21mget\u001b[39m(url, params\u001b[38;5;241m=\u001b[39m\u001b[38;5;28;01mNone\u001b[39;00m, \u001b[38;5;241m*\u001b[39m\u001b[38;5;241m*\u001b[39mkwargs):\n\u001b[1;32m     63\u001b[0m \u001b[38;5;250m    \u001b[39m\u001b[38;5;124mr\u001b[39m\u001b[38;5;124;03m\"\"\"Sends a GET request.\u001b[39;00m\n\u001b[1;32m     64\u001b[0m \n\u001b[1;32m     65\u001b[0m \u001b[38;5;124;03m    :param url: URL for the new :class:`Request` object.\u001b[39;00m\n\u001b[0;32m   (...)\u001b[0m\n\u001b[1;32m     70\u001b[0m \u001b[38;5;124;03m    :rtype: requests.Response\u001b[39;00m\n\u001b[1;32m     71\u001b[0m \u001b[38;5;124;03m    \"\"\"\u001b[39;00m\n\u001b[0;32m---> 73\u001b[0m     \u001b[38;5;28;01mreturn\u001b[39;00m \u001b[43mrequest\u001b[49m\u001b[43m(\u001b[49m\u001b[38;5;124;43m\"\u001b[39;49m\u001b[38;5;124;43mget\u001b[39;49m\u001b[38;5;124;43m\"\u001b[39;49m\u001b[43m,\u001b[49m\u001b[43m \u001b[49m\u001b[43murl\u001b[49m\u001b[43m,\u001b[49m\u001b[43m \u001b[49m\u001b[43mparams\u001b[49m\u001b[38;5;241;43m=\u001b[39;49m\u001b[43mparams\u001b[49m\u001b[43m,\u001b[49m\u001b[43m \u001b[49m\u001b[38;5;241;43m*\u001b[39;49m\u001b[38;5;241;43m*\u001b[39;49m\u001b[43mkwargs\u001b[49m\u001b[43m)\u001b[49m\n",
      "File \u001b[0;32m~/conda/lib/python3.10/site-packages/requests/api.py:59\u001b[0m, in \u001b[0;36mrequest\u001b[0;34m(method, url, **kwargs)\u001b[0m\n\u001b[1;32m     55\u001b[0m \u001b[38;5;66;03m# By using the 'with' statement we are sure the session is closed, thus we\u001b[39;00m\n\u001b[1;32m     56\u001b[0m \u001b[38;5;66;03m# avoid leaving sockets open which can trigger a ResourceWarning in some\u001b[39;00m\n\u001b[1;32m     57\u001b[0m \u001b[38;5;66;03m# cases, and look like a memory leak in others.\u001b[39;00m\n\u001b[1;32m     58\u001b[0m \u001b[38;5;28;01mwith\u001b[39;00m sessions\u001b[38;5;241m.\u001b[39mSession() \u001b[38;5;28;01mas\u001b[39;00m session:\n\u001b[0;32m---> 59\u001b[0m     \u001b[38;5;28;01mreturn\u001b[39;00m \u001b[43msession\u001b[49m\u001b[38;5;241;43m.\u001b[39;49m\u001b[43mrequest\u001b[49m\u001b[43m(\u001b[49m\u001b[43mmethod\u001b[49m\u001b[38;5;241;43m=\u001b[39;49m\u001b[43mmethod\u001b[49m\u001b[43m,\u001b[49m\u001b[43m \u001b[49m\u001b[43murl\u001b[49m\u001b[38;5;241;43m=\u001b[39;49m\u001b[43murl\u001b[49m\u001b[43m,\u001b[49m\u001b[43m \u001b[49m\u001b[38;5;241;43m*\u001b[39;49m\u001b[38;5;241;43m*\u001b[39;49m\u001b[43mkwargs\u001b[49m\u001b[43m)\u001b[49m\n",
      "File \u001b[0;32m~/conda/lib/python3.10/site-packages/requests/sessions.py:587\u001b[0m, in \u001b[0;36mSession.request\u001b[0;34m(self, method, url, params, data, headers, cookies, files, auth, timeout, allow_redirects, proxies, hooks, stream, verify, cert, json)\u001b[0m\n\u001b[1;32m    582\u001b[0m send_kwargs \u001b[38;5;241m=\u001b[39m {\n\u001b[1;32m    583\u001b[0m     \u001b[38;5;124m\"\u001b[39m\u001b[38;5;124mtimeout\u001b[39m\u001b[38;5;124m\"\u001b[39m: timeout,\n\u001b[1;32m    584\u001b[0m     \u001b[38;5;124m\"\u001b[39m\u001b[38;5;124mallow_redirects\u001b[39m\u001b[38;5;124m\"\u001b[39m: allow_redirects,\n\u001b[1;32m    585\u001b[0m }\n\u001b[1;32m    586\u001b[0m send_kwargs\u001b[38;5;241m.\u001b[39mupdate(settings)\n\u001b[0;32m--> 587\u001b[0m resp \u001b[38;5;241m=\u001b[39m \u001b[38;5;28;43mself\u001b[39;49m\u001b[38;5;241;43m.\u001b[39;49m\u001b[43msend\u001b[49m\u001b[43m(\u001b[49m\u001b[43mprep\u001b[49m\u001b[43m,\u001b[49m\u001b[43m \u001b[49m\u001b[38;5;241;43m*\u001b[39;49m\u001b[38;5;241;43m*\u001b[39;49m\u001b[43msend_kwargs\u001b[49m\u001b[43m)\u001b[49m\n\u001b[1;32m    589\u001b[0m \u001b[38;5;28;01mreturn\u001b[39;00m resp\n",
      "File \u001b[0;32m~/conda/lib/python3.10/site-packages/requests/sessions.py:701\u001b[0m, in \u001b[0;36mSession.send\u001b[0;34m(self, request, **kwargs)\u001b[0m\n\u001b[1;32m    698\u001b[0m start \u001b[38;5;241m=\u001b[39m preferred_clock()\n\u001b[1;32m    700\u001b[0m \u001b[38;5;66;03m# Send the request\u001b[39;00m\n\u001b[0;32m--> 701\u001b[0m r \u001b[38;5;241m=\u001b[39m \u001b[43madapter\u001b[49m\u001b[38;5;241;43m.\u001b[39;49m\u001b[43msend\u001b[49m\u001b[43m(\u001b[49m\u001b[43mrequest\u001b[49m\u001b[43m,\u001b[49m\u001b[43m \u001b[49m\u001b[38;5;241;43m*\u001b[39;49m\u001b[38;5;241;43m*\u001b[39;49m\u001b[43mkwargs\u001b[49m\u001b[43m)\u001b[49m\n\u001b[1;32m    703\u001b[0m \u001b[38;5;66;03m# Total elapsed time of the request (approximately)\u001b[39;00m\n\u001b[1;32m    704\u001b[0m elapsed \u001b[38;5;241m=\u001b[39m preferred_clock() \u001b[38;5;241m-\u001b[39m start\n",
      "File \u001b[0;32m~/conda/lib/python3.10/site-packages/requests/adapters.py:565\u001b[0m, in \u001b[0;36mHTTPAdapter.send\u001b[0;34m(self, request, stream, timeout, verify, cert, proxies)\u001b[0m\n\u001b[1;32m    561\u001b[0m     \u001b[38;5;28;01mif\u001b[39;00m \u001b[38;5;28misinstance\u001b[39m(e\u001b[38;5;241m.\u001b[39mreason, _SSLError):\n\u001b[1;32m    562\u001b[0m         \u001b[38;5;66;03m# This branch is for urllib3 v1.22 and later.\u001b[39;00m\n\u001b[1;32m    563\u001b[0m         \u001b[38;5;28;01mraise\u001b[39;00m SSLError(e, request\u001b[38;5;241m=\u001b[39mrequest)\n\u001b[0;32m--> 565\u001b[0m     \u001b[38;5;28;01mraise\u001b[39;00m \u001b[38;5;167;01mConnectionError\u001b[39;00m(e, request\u001b[38;5;241m=\u001b[39mrequest)\n\u001b[1;32m    567\u001b[0m \u001b[38;5;28;01mexcept\u001b[39;00m ClosedPoolError \u001b[38;5;28;01mas\u001b[39;00m e:\n\u001b[1;32m    568\u001b[0m     \u001b[38;5;28;01mraise\u001b[39;00m \u001b[38;5;167;01mConnectionError\u001b[39;00m(e, request\u001b[38;5;241m=\u001b[39mrequest)\n",
      "\u001b[0;31mConnectionError\u001b[0m: HTTPSConnectionPool(host='localhost', port=9000): Max retries exceeded with url: /projects (Caused by NewConnectionError('<urllib3.connection.HTTPSConnection object at 0x7f1b377a0790>: Failed to establish a new connection: [Errno 111] Connection refused'))"
     ]
    }
   ],
   "source": [
    "projects_url = f\"{host}/projects\" \n",
    "projects_response = requests.get(projects_url)\n",
    "\n",
    "if projects_response.status_code == 200:\n",
    "    projects = projects_response.json()\n",
    "    projects_data = list(map(lambda b: {'Project Name':b['name'], 'Project ID':b['@id']}, projects))\n",
    "    df = pd.DataFrame.from_records(projects_data).style.hide(axis='index')\n",
    "    # if len(projects_data) > 0:\n",
    "    #     df = df.style.sort_values(by='Project Name')\n",
    "    display(df)\n",
    "else:\n",
    "    pprint(\"Problem in fetching projects\")"
   ]
  },
  {
   "cell_type": "markdown",
   "id": "9dcbc9b2",
   "metadata": {},
   "source": [
    "# Get branches"
   ]
  },
  {
   "cell_type": "code",
   "execution_count": 122,
   "id": "a27f81d8",
   "metadata": {},
   "outputs": [
    {
     "data": {
      "text/html": [
       "<style type=\"text/css\">\n",
       "</style>\n",
       "<table id=\"T_1fa5a\">\n",
       "  <thead>\n",
       "    <tr>\n",
       "      <th id=\"T_1fa5a_level0_col0\" class=\"col_heading level0 col0\" >Branch Name</th>\n",
       "      <th id=\"T_1fa5a_level0_col1\" class=\"col_heading level0 col1\" >Branch ID</th>\n",
       "      <th id=\"T_1fa5a_level0_col2\" class=\"col_heading level0 col2\" >Ref Commit (head)</th>\n",
       "    </tr>\n",
       "  </thead>\n",
       "  <tbody>\n",
       "    <tr>\n",
       "      <td id=\"T_1fa5a_row0_col0\" class=\"data row0 col0\" >main</td>\n",
       "      <td id=\"T_1fa5a_row0_col1\" class=\"data row0 col1\" >b20df3d4-bb46-489f-b312-858952c21d89</td>\n",
       "      <td id=\"T_1fa5a_row0_col2\" class=\"data row0 col2\" >None</td>\n",
       "    </tr>\n",
       "  </tbody>\n",
       "</table>\n"
      ],
      "text/plain": [
       "<pandas.io.formats.style.Styler at 0x119019c70>"
      ]
     },
     "metadata": {},
     "output_type": "display_data"
    }
   ],
   "source": [
    "branches_url = f\"{host}/projects/{project_id}/branches\" \n",
    "branches_response = requests.get(branches_url)\n",
    "\n",
    "if branches_response.status_code == 200:\n",
    "    branches = branches_response.json()\n",
    "    branches_data = list(map(lambda b: {'Branch Name':b['name'], 'Branch ID':b['@id'], 'Ref Commit (head)':b['head']}, branches))\n",
    "\n",
    "    df = pd.DataFrame.from_records(branches_data).sort_values(by='Branch Name').style.hide(axis='index')\n",
    "    display(df)\n",
    "else:\n",
    "    pprint(f\"Problem in fetching branches of Spacecraft project {project_id}\")\n",
    "    pprint(branches_response)"
   ]
  },
  {
   "cell_type": "markdown",
   "id": "08d62aa2",
   "metadata": {},
   "source": [
    "# Get tags"
   ]
  },
  {
   "cell_type": "code",
   "execution_count": 123,
   "id": "5560f612",
   "metadata": {},
   "outputs": [
    {
     "name": "stdout",
     "output_type": "stream",
     "text": [
      "[]\n"
     ]
    },
    {
     "data": {
      "text/html": [
       "<style type=\"text/css\">\n",
       "</style>\n",
       "<table id=\"T_b6b4f\">\n",
       "  <thead>\n",
       "  </thead>\n",
       "  <tbody>\n",
       "  </tbody>\n",
       "</table>\n"
      ],
      "text/plain": [
       "<pandas.io.formats.style.Styler at 0x11909fb20>"
      ]
     },
     "metadata": {},
     "output_type": "display_data"
    }
   ],
   "source": [
    "tags_url = f\"{host}/projects/{project_id}/tags\" \n",
    "tags_response = requests.get(tags_url)\n",
    "\n",
    "if tags_response.status_code == 200:\n",
    "    tags = tags_response.json()\n",
    "    pprint(tags)\n",
    "    tags_data = list(map(lambda b: {'Tag Name':b['name'], 'Tag ID':b['@id'], 'Tagged Commit':b['taggedCommit']}, tags))\n",
    "\n",
    "    df = pd.DataFrame.from_records(tags_data).style.hide(axis='index')\n",
    "    display(df)\n",
    "else:\n",
    "    pprint(f\"Problem in fetching tags of Spacecraft project {project_id}\")\n",
    "    pprint(tags_response)"
   ]
  },
  {
   "cell_type": "markdown",
   "id": "e5ec0d59",
   "metadata": {},
   "source": [
    "# Create 1st Commit"
   ]
  },
  {
   "cell_type": "code",
   "execution_count": 124,
   "id": "2f587fcf",
   "metadata": {},
   "outputs": [
    {
     "name": "stdout",
     "output_type": "stream",
     "text": [
      "{'@id': '68654706-7146-48f0-8ed9-ec0ffa94feea',\n",
      " '@type': 'Commit',\n",
      " 'created': '2022-11-05T21:02:56.305306-04:00',\n",
      " 'description': None,\n",
      " 'owningProject': {'@id': '1cb23e7a-4d70-487e-89ad-1cd8a22efb9e'},\n",
      " 'previousCommit': None}\n"
     ]
    }
   ],
   "source": [
    "commit_body = {\n",
    "  \"@type\": \"Commit\",\n",
    "  \"change\": [\n",
    "    {\n",
    "      \"@type\": \"DataVersion\",\n",
    "      \"payload\": {\n",
    "        \"@type\": \"PartDefinition\",\n",
    "        \"name\":\"Spacecraft System\"\n",
    "      }\n",
    "    },\n",
    "    {\n",
    "      \"@type\": \"DataVersion\",\n",
    "      \"payload\": {\n",
    "        \"@type\": \"PartDefinition\",\n",
    "        \"name\":\"Payload System\"\n",
    "      }\n",
    "    },\n",
    "    {\n",
    "      \"@type\": \"DataVersion\",\n",
    "      \"payload\": {\n",
    "        \"@type\": \"PartDefinition\",\n",
    "        \"name\":\"Propulsion System\"\n",
    "      }\n",
    "    }\n",
    "  ]\n",
    "}\n",
    "\n",
    "commit_post_url = f\"{host}/projects/{project_id}/commits\" \n",
    "\n",
    "commit_post_response = requests.post(commit_post_url, \n",
    "                                      headers={\"Content-Type\": \"application/json\"}, \n",
    "                                      data=json.dumps(commit_body))\n",
    "\n",
    "commit1_id = \"\"\n",
    "\n",
    "if commit_post_response.status_code == 200:\n",
    "    commit_response_json = commit_post_response.json()\n",
    "    pprint(commit_response_json)\n",
    "    commit1_id = commit_response_json['@id']\n",
    "else:\n",
    "    pprint(f\"Problem in creating a new commit in Spacecraft project {project_id}\")\n",
    "    pprint(commit_post_response)"
   ]
  },
  {
   "cell_type": "code",
   "execution_count": 125,
   "id": "96c5d926",
   "metadata": {},
   "outputs": [
    {
     "data": {
      "text/html": [
       "<style type=\"text/css\">\n",
       "</style>\n",
       "<table id=\"T_74be2\">\n",
       "  <thead>\n",
       "    <tr>\n",
       "      <th id=\"T_74be2_level0_col0\" class=\"col_heading level0 col0\" >Element Name</th>\n",
       "      <th id=\"T_74be2_level0_col1\" class=\"col_heading level0 col1\" >Element ID</th>\n",
       "    </tr>\n",
       "  </thead>\n",
       "  <tbody>\n",
       "    <tr>\n",
       "      <td id=\"T_74be2_row0_col0\" class=\"data row0 col0\" >Payload System</td>\n",
       "      <td id=\"T_74be2_row0_col1\" class=\"data row0 col1\" >aa45735a-6001-4f00-a7f2-ecad5d442d27</td>\n",
       "    </tr>\n",
       "    <tr>\n",
       "      <td id=\"T_74be2_row1_col0\" class=\"data row1 col0\" >Propulsion System</td>\n",
       "      <td id=\"T_74be2_row1_col1\" class=\"data row1 col1\" >27e4f855-aa8a-4343-b25c-0c452cfb22ab</td>\n",
       "    </tr>\n",
       "    <tr>\n",
       "      <td id=\"T_74be2_row2_col0\" class=\"data row2 col0\" >Spacecraft System</td>\n",
       "      <td id=\"T_74be2_row2_col1\" class=\"data row2 col1\" >00734e2e-565f-4411-8b06-b5c8eab5e178</td>\n",
       "    </tr>\n",
       "  </tbody>\n",
       "</table>\n"
      ],
      "text/plain": [
       "<pandas.io.formats.style.Styler at 0x119018760>"
      ]
     },
     "metadata": {},
     "output_type": "display_data"
    }
   ],
   "source": [
    "element_get_url = f\"{host}/projects/{project_id}/commits/{commit1_id}/elements\" \n",
    "\n",
    "element_get_response = requests.get(element_get_url)\n",
    "\n",
    "if element_get_response.status_code == 200:\n",
    "    elements = element_get_response.json()\n",
    "    elements_data = list(map(lambda b: {'Element Name':b['name'], 'Element ID':b['@id']}, elements))\n",
    "    df = pd.DataFrame.from_records(elements_data).sort_values(by='Element Name').style.hide(axis='index')\n",
    "    display(df)\n",
    "else:\n",
    "    pprint(f\"Problem in fetching elements in the Spacecraft project {project_id} at commit {commit1_id}.\")\n",
    "    pprint(element_get_response)"
   ]
  },
  {
   "cell_type": "markdown",
   "id": "c07fdd74",
   "metadata": {},
   "source": [
    "# Create 2nd Commit"
   ]
  },
  {
   "cell_type": "code",
   "execution_count": 126,
   "id": "6442376a",
   "metadata": {
    "tags": []
   },
   "outputs": [
    {
     "name": "stdout",
     "output_type": "stream",
     "text": [
      "{'@id': '118e6f99-cde1-41fb-8f93-928fe6fa4be0',\n",
      " '@type': 'Commit',\n",
      " 'created': '2022-11-05T21:02:56.7703-04:00',\n",
      " 'description': None,\n",
      " 'owningProject': {'@id': '1cb23e7a-4d70-487e-89ad-1cd8a22efb9e'},\n",
      " 'previousCommit': {'@id': '68654706-7146-48f0-8ed9-ec0ffa94feea'}}\n"
     ]
    }
   ],
   "source": [
    "commit_body = {\n",
    "  \"@type\": \"Commit\",\n",
    "  \"change\": [\n",
    "    {\n",
    "      \"@type\": \"DataVersion\",\n",
    "      \"payload\": {\n",
    "        \"@type\": \"PartDefinition\",\n",
    "        \"name\":\"Avionics System\"\n",
    "      }\n",
    "    },\n",
    "    {\n",
    "      \"@type\": \"DataVersion\",\n",
    "      \"payload\": {\n",
    "        \"@type\": \"PartDefinition\",\n",
    "        \"name\":\"Power System\"\n",
    "      }\n",
    "    }\n",
    "  ],\n",
    "  \"previousCommit\": {\n",
    "      \"@id\": commit1_id\n",
    "    }\n",
    "}\n",
    "\n",
    "commit_post_url = f\"{host}/projects/{project_id}/commits\" \n",
    "\n",
    "commit_post_response = requests.post(commit_post_url, \n",
    "                                      headers={\"Content-Type\": \"application/json\"}, \n",
    "                                      data=json.dumps(commit_body))\n",
    "\n",
    "commit2_id = \"\"\n",
    "\n",
    "if commit_post_response.status_code == 200:\n",
    "    commit_response_json = commit_post_response.json()\n",
    "    pprint(commit_response_json)\n",
    "    commit2_id = commit_response_json['@id']\n",
    "else:\n",
    "    pprint(f\"Problem in creating a new commit in Spacecraft project {project_id}\")\n",
    "    pprint(commit_post_response)"
   ]
  },
  {
   "cell_type": "markdown",
   "id": "698216fc",
   "metadata": {},
   "source": [
    "# Get all elements after the 2nd commit"
   ]
  },
  {
   "cell_type": "code",
   "execution_count": 127,
   "id": "fd45fc21",
   "metadata": {},
   "outputs": [
    {
     "data": {
      "text/html": [
       "<style type=\"text/css\">\n",
       "</style>\n",
       "<table id=\"T_cecc0\">\n",
       "  <thead>\n",
       "    <tr>\n",
       "      <th id=\"T_cecc0_level0_col0\" class=\"col_heading level0 col0\" >Element Name</th>\n",
       "      <th id=\"T_cecc0_level0_col1\" class=\"col_heading level0 col1\" >Element ID</th>\n",
       "    </tr>\n",
       "  </thead>\n",
       "  <tbody>\n",
       "    <tr>\n",
       "      <td id=\"T_cecc0_row0_col0\" class=\"data row0 col0\" >Avionics System</td>\n",
       "      <td id=\"T_cecc0_row0_col1\" class=\"data row0 col1\" >d4a362f9-7a85-4887-9936-4df002c5fcae</td>\n",
       "    </tr>\n",
       "    <tr>\n",
       "      <td id=\"T_cecc0_row1_col0\" class=\"data row1 col0\" >Payload System</td>\n",
       "      <td id=\"T_cecc0_row1_col1\" class=\"data row1 col1\" >aa45735a-6001-4f00-a7f2-ecad5d442d27</td>\n",
       "    </tr>\n",
       "    <tr>\n",
       "      <td id=\"T_cecc0_row2_col0\" class=\"data row2 col0\" >Power System</td>\n",
       "      <td id=\"T_cecc0_row2_col1\" class=\"data row2 col1\" >8ac6138b-e00c-4908-8383-b25ef5dce6b0</td>\n",
       "    </tr>\n",
       "    <tr>\n",
       "      <td id=\"T_cecc0_row3_col0\" class=\"data row3 col0\" >Propulsion System</td>\n",
       "      <td id=\"T_cecc0_row3_col1\" class=\"data row3 col1\" >27e4f855-aa8a-4343-b25c-0c452cfb22ab</td>\n",
       "    </tr>\n",
       "    <tr>\n",
       "      <td id=\"T_cecc0_row4_col0\" class=\"data row4 col0\" >Spacecraft System</td>\n",
       "      <td id=\"T_cecc0_row4_col1\" class=\"data row4 col1\" >00734e2e-565f-4411-8b06-b5c8eab5e178</td>\n",
       "    </tr>\n",
       "  </tbody>\n",
       "</table>\n"
      ],
      "text/plain": [
       "<pandas.io.formats.style.Styler at 0x11909f880>"
      ]
     },
     "metadata": {},
     "output_type": "display_data"
    }
   ],
   "source": [
    "element_get_url = f\"{host}/projects/{project_id}/commits/{commit2_id}/elements\" \n",
    "\n",
    "element_get_response = requests.get(element_get_url)\n",
    "\n",
    "if element_get_response.status_code == 200:\n",
    "    elements = element_get_response.json()\n",
    "    elements_data = list(map(lambda b: {'Element Name':b['name'], 'Element ID':b['@id']}, elements))\n",
    "    df = pd.DataFrame.from_records(elements_data).sort_values(by='Element Name').style.hide(axis='index')\n",
    "    display(df)\n",
    "else:\n",
    "    pprint(f\"Problem in fetching elements in the Spacecraft project {project_id} at commit {commit2_id}.\")\n",
    "    pprint(element_get_response)"
   ]
  },
  {
   "cell_type": "markdown",
   "id": "bf87f9e7",
   "metadata": {},
   "source": [
    "# Create a tag"
   ]
  },
  {
   "cell_type": "code",
   "execution_count": 128,
   "id": "5538aafc",
   "metadata": {},
   "outputs": [
    {
     "name": "stdout",
     "output_type": "stream",
     "text": [
      "{'@id': '65b1977d-bc03-4a94-be41-2ed85eda65ed',\n",
      " '@type': 'Tag',\n",
      " 'created': '2022-11-05T21:02:57.096895-04:00',\n",
      " 'name': 'Spacecraft Internal Release 0.1',\n",
      " 'owningProject': {'@id': '1cb23e7a-4d70-487e-89ad-1cd8a22efb9e'},\n",
      " 'referencedCommit': {'@id': '118e6f99-cde1-41fb-8f93-928fe6fa4be0'},\n",
      " 'taggedCommit': {'@id': '118e6f99-cde1-41fb-8f93-928fe6fa4be0'}}\n"
     ]
    }
   ],
   "source": [
    "tag_body = {\n",
    "    \"@type\": \"Tag\",\n",
    "    \"name\": \"Spacecraft Internal Release 0.1\",\n",
    "    \"taggedCommit\": {\n",
    "      \"@id\": commit2_id\n",
    "    }\n",
    "}\n",
    "\n",
    "tag_post_url = f\"{host}/projects/{project_id}/tags\" \n",
    "\n",
    "tag_post_response = requests.post(tag_post_url, \n",
    "                                  headers={\"Content-Type\": \"application/json\"}, \n",
    "                                  data=json.dumps(tag_body))\n",
    "\n",
    "tag1_id = \"\"\n",
    "\n",
    "if tag_post_response.status_code == 200:\n",
    "    tag_response_json = tag_post_response.json()\n",
    "    pprint(tag_response_json)\n",
    "    tag1_id = tag_response_json['@id']\n",
    "else:\n",
    "    pprint(f\"Problem in creating a new tag in Spacecraft project {project_id}.\")\n",
    "    pprint(tag_post_response)"
   ]
  },
  {
   "cell_type": "markdown",
   "id": "7daf47a1",
   "metadata": {},
   "source": [
    "# Get Tags"
   ]
  },
  {
   "cell_type": "code",
   "execution_count": 129,
   "id": "b46e2e82",
   "metadata": {},
   "outputs": [
    {
     "data": {
      "text/html": [
       "<style type=\"text/css\">\n",
       "</style>\n",
       "<table id=\"T_7abbd\">\n",
       "  <thead>\n",
       "    <tr>\n",
       "      <th id=\"T_7abbd_level0_col0\" class=\"col_heading level0 col0\" >Tag Name</th>\n",
       "      <th id=\"T_7abbd_level0_col1\" class=\"col_heading level0 col1\" >Tag ID</th>\n",
       "      <th id=\"T_7abbd_level0_col2\" class=\"col_heading level0 col2\" >Tagged Commit</th>\n",
       "    </tr>\n",
       "  </thead>\n",
       "  <tbody>\n",
       "    <tr>\n",
       "      <td id=\"T_7abbd_row0_col0\" class=\"data row0 col0\" >Spacecraft Internal Release 0.1</td>\n",
       "      <td id=\"T_7abbd_row0_col1\" class=\"data row0 col1\" >65b1977d-bc03-4a94-be41-2ed85eda65ed</td>\n",
       "      <td id=\"T_7abbd_row0_col2\" class=\"data row0 col2\" >{'@id': '118e6f99-cde1-41fb-8f93-928fe6fa4be0'}</td>\n",
       "    </tr>\n",
       "  </tbody>\n",
       "</table>\n"
      ],
      "text/plain": [
       "<pandas.io.formats.style.Styler at 0x1190969a0>"
      ]
     },
     "metadata": {},
     "output_type": "display_data"
    }
   ],
   "source": [
    "tags_url = f\"{host}/projects/{project_id}/tags\" \n",
    "tags_response = requests.get(tags_url)\n",
    "\n",
    "if tags_response.status_code == 200:\n",
    "    tags = tags_response.json()\n",
    "    tags_data = list(map(lambda b: {'Tag Name':b['name'], 'Tag ID':b['@id'], 'Tagged Commit':b['taggedCommit']}, tags))\n",
    "\n",
    "    df = pd.DataFrame.from_records(tags_data).style.hide(axis='index')\n",
    "    display(df)\n",
    "else:\n",
    "    pprint(f\"Problem in fetching tags in Spacecraft project {project_id}.\")\n",
    "    pprint(tag_post_response)"
   ]
  },
  {
   "cell_type": "markdown",
   "id": "ccd76b23",
   "metadata": {},
   "source": [
    "# Create a new branch at the second commit (also tagged as 0.1)"
   ]
  },
  {
   "cell_type": "code",
   "execution_count": 130,
   "id": "4fc98081",
   "metadata": {},
   "outputs": [
    {
     "name": "stdout",
     "output_type": "stream",
     "text": [
      "{'@id': 'adb35786-0381-4f86-814e-deff94481ca5',\n",
      " '@type': 'Branch',\n",
      " 'created': '2022-11-05T21:02:57.268637-04:00',\n",
      " 'head': {'@id': '118e6f99-cde1-41fb-8f93-928fe6fa4be0'},\n",
      " 'name': 'develop',\n",
      " 'owningProject': {'@id': '1cb23e7a-4d70-487e-89ad-1cd8a22efb9e'},\n",
      " 'referencedCommit': {'@id': '118e6f99-cde1-41fb-8f93-928fe6fa4be0'}}\n"
     ]
    }
   ],
   "source": [
    "branch_body = {\n",
    "  \"@type\": \"Branch\",\n",
    "  \"name\": \"develop\",\n",
    "  \"head\": {\n",
    "      \"@id\": commit2_id\n",
    "    }\n",
    "}\n",
    "\n",
    "branch_post_url = f\"{host}/projects/{project_id}/branches\" \n",
    "\n",
    "branch_post_response = requests.post(branch_post_url, \n",
    "                                      headers={\"Content-Type\": \"application/json\"}, \n",
    "                                      data=json.dumps(branch_body))\n",
    "\n",
    "branch_develop_id = \"\"\n",
    "\n",
    "if branch_post_response.status_code == 200:\n",
    "    branch_response_json = branch_post_response.json()\n",
    "    pprint(branch_response_json)\n",
    "    branch_develop_id = branch_response_json['@id']\n",
    "else:\n",
    "    pprint(f\"Problem in creating a new branch in Spacecraft project {project_id}\")\n",
    "    pprint(branch_post_response)"
   ]
  },
  {
   "cell_type": "markdown",
   "id": "bfab70aa",
   "metadata": {
    "tags": []
   },
   "source": [
    "# Get branches"
   ]
  },
  {
   "cell_type": "code",
   "execution_count": 131,
   "id": "97b27223",
   "metadata": {},
   "outputs": [
    {
     "data": {
      "text/html": [
       "<style type=\"text/css\">\n",
       "</style>\n",
       "<table id=\"T_230b6\">\n",
       "  <thead>\n",
       "    <tr>\n",
       "      <th id=\"T_230b6_level0_col0\" class=\"col_heading level0 col0\" >Branch Name</th>\n",
       "      <th id=\"T_230b6_level0_col1\" class=\"col_heading level0 col1\" >Branch ID</th>\n",
       "      <th id=\"T_230b6_level0_col2\" class=\"col_heading level0 col2\" >Ref Commit (head)</th>\n",
       "    </tr>\n",
       "  </thead>\n",
       "  <tbody>\n",
       "    <tr>\n",
       "      <td id=\"T_230b6_row0_col0\" class=\"data row0 col0\" >develop</td>\n",
       "      <td id=\"T_230b6_row0_col1\" class=\"data row0 col1\" >adb35786-0381-4f86-814e-deff94481ca5</td>\n",
       "      <td id=\"T_230b6_row0_col2\" class=\"data row0 col2\" >{'@id': '118e6f99-cde1-41fb-8f93-928fe6fa4be0'}</td>\n",
       "    </tr>\n",
       "    <tr>\n",
       "      <td id=\"T_230b6_row1_col0\" class=\"data row1 col0\" >main</td>\n",
       "      <td id=\"T_230b6_row1_col1\" class=\"data row1 col1\" >b20df3d4-bb46-489f-b312-858952c21d89</td>\n",
       "      <td id=\"T_230b6_row1_col2\" class=\"data row1 col2\" >{'@id': '118e6f99-cde1-41fb-8f93-928fe6fa4be0'}</td>\n",
       "    </tr>\n",
       "  </tbody>\n",
       "</table>\n"
      ],
      "text/plain": [
       "<pandas.io.formats.style.Styler at 0x119019df0>"
      ]
     },
     "metadata": {},
     "output_type": "display_data"
    }
   ],
   "source": [
    "branches_url = f\"{host}/projects/{project_id}/branches\" \n",
    "branches_response = requests.get(branches_url)\n",
    "\n",
    "if branches_response.status_code == 200:\n",
    "    branches = branches_response.json()\n",
    "    branches_data = list(map(lambda b: {'Branch Name':b['name'], 'Branch ID':b['@id'], 'Ref Commit (head)':b['head']}, branches))\n",
    "\n",
    "    df = pd.DataFrame.from_records(branches_data).sort_values(by='Branch Name').style.hide(axis='index')\n",
    "    display(df)\n",
    "else:\n",
    "    pprint(f\"Problem in fetching branches in Spacecraft project {project_id}\")\n",
    "    pprint(branches_response)"
   ]
  },
  {
   "cell_type": "markdown",
   "id": "a64c6cf3",
   "metadata": {},
   "source": [
    "# Create a new commit in the develop branch"
   ]
  },
  {
   "cell_type": "code",
   "execution_count": 132,
   "id": "3948927a",
   "metadata": {},
   "outputs": [
    {
     "name": "stdout",
     "output_type": "stream",
     "text": [
      "{'@id': '5665c584-4474-4599-8b74-46c3c647a2cf',\n",
      " '@type': 'Commit',\n",
      " 'created': '2022-11-05T21:02:57.444978-04:00',\n",
      " 'description': None,\n",
      " 'owningProject': {'@id': '1cb23e7a-4d70-487e-89ad-1cd8a22efb9e'},\n",
      " 'previousCommit': {'@id': '118e6f99-cde1-41fb-8f93-928fe6fa4be0'}}\n"
     ]
    }
   ],
   "source": [
    "commit_body = {\n",
    "  \"@type\": \"Commit\",\n",
    "  \"change\": [\n",
    "    {\n",
    "      \"@type\": \"DataVersion\",\n",
    "      \"payload\": {\n",
    "        \"@type\": \"PartDefinition\",\n",
    "        \"name\":\"GN & C System\"\n",
    "      }\n",
    "    }\n",
    "  ],\n",
    "  \"previousCommit\": {\n",
    "      \"@id\": commit2_id\n",
    "    }\n",
    "}\n",
    "\n",
    "commit_post_url = f\"{host}/projects/{project_id}/commits\" \n",
    "\n",
    "commit_post_response = requests.post(commit_post_url, \n",
    "                                      headers={\"Content-Type\": \"application/json\"}, \n",
    "                                      data=json.dumps(commit_body),\n",
    "                                      params={\"branchId\":branch_develop_id})\n",
    "\n",
    "commit3_id = \"\"\n",
    "\n",
    "if commit_post_response.status_code == 200:\n",
    "    commit_response_json = commit_post_response.json()\n",
    "    pprint(commit_response_json)\n",
    "    commit3_id = commit_response_json['@id']\n",
    "else:\n",
    "    pprint(f\"Problem in creating a new commit in Spacecraft project {project_id}\")\n",
    "    pprint(commit_post_response)"
   ]
  },
  {
   "cell_type": "markdown",
   "id": "12a407e4",
   "metadata": {},
   "source": [
    "# Get Branches"
   ]
  },
  {
   "cell_type": "code",
   "execution_count": 133,
   "id": "cea1b1b8",
   "metadata": {},
   "outputs": [
    {
     "data": {
      "text/html": [
       "<style type=\"text/css\">\n",
       "</style>\n",
       "<table id=\"T_7ed9e\">\n",
       "  <thead>\n",
       "    <tr>\n",
       "      <th id=\"T_7ed9e_level0_col0\" class=\"col_heading level0 col0\" >Branch Name</th>\n",
       "      <th id=\"T_7ed9e_level0_col1\" class=\"col_heading level0 col1\" >Branch ID</th>\n",
       "      <th id=\"T_7ed9e_level0_col2\" class=\"col_heading level0 col2\" >Ref Commit (head)</th>\n",
       "    </tr>\n",
       "  </thead>\n",
       "  <tbody>\n",
       "    <tr>\n",
       "      <td id=\"T_7ed9e_row0_col0\" class=\"data row0 col0\" >develop</td>\n",
       "      <td id=\"T_7ed9e_row0_col1\" class=\"data row0 col1\" >adb35786-0381-4f86-814e-deff94481ca5</td>\n",
       "      <td id=\"T_7ed9e_row0_col2\" class=\"data row0 col2\" >{'@id': '5665c584-4474-4599-8b74-46c3c647a2cf'}</td>\n",
       "    </tr>\n",
       "    <tr>\n",
       "      <td id=\"T_7ed9e_row1_col0\" class=\"data row1 col0\" >main</td>\n",
       "      <td id=\"T_7ed9e_row1_col1\" class=\"data row1 col1\" >b20df3d4-bb46-489f-b312-858952c21d89</td>\n",
       "      <td id=\"T_7ed9e_row1_col2\" class=\"data row1 col2\" >{'@id': '118e6f99-cde1-41fb-8f93-928fe6fa4be0'}</td>\n",
       "    </tr>\n",
       "  </tbody>\n",
       "</table>\n"
      ],
      "text/plain": [
       "<pandas.io.formats.style.Styler at 0x1095dc730>"
      ]
     },
     "metadata": {},
     "output_type": "display_data"
    }
   ],
   "source": [
    "branches_url = f\"{host}/projects/{project_id}/branches\" \n",
    "branches_response = requests.get(branches_url)\n",
    "\n",
    "if branches_response.status_code == 200:\n",
    "    branches = branches_response.json()\n",
    "    branches_data = list(map(lambda b: {'Branch Name':b['name'], 'Branch ID':b['@id'], 'Ref Commit (head)':b['head']}, branches))\n",
    "\n",
    "    df = pd.DataFrame.from_records(branches_data).sort_values(by='Branch Name').style.hide(axis='index')\n",
    "    display(df)\n",
    "else:\n",
    "    pprint(f\"Problem in fetching branches in Spacecraft project {project_id}\")\n",
    "    pprint(commit_post_response)"
   ]
  },
  {
   "cell_type": "markdown",
   "id": "afe32c98",
   "metadata": {},
   "source": [
    "# Get all elements as of the latest commit on main branch"
   ]
  },
  {
   "cell_type": "code",
   "execution_count": 134,
   "id": "4aeeb71e",
   "metadata": {},
   "outputs": [
    {
     "name": "stdout",
     "output_type": "stream",
     "text": [
      "'Fetching elements at commit 118e6f99-cde1-41fb-8f93-928fe6fa4be0'\n"
     ]
    },
    {
     "data": {
      "text/html": [
       "<style type=\"text/css\">\n",
       "</style>\n",
       "<table id=\"T_36ffd\">\n",
       "  <thead>\n",
       "    <tr>\n",
       "      <th id=\"T_36ffd_level0_col0\" class=\"col_heading level0 col0\" >Element Name</th>\n",
       "      <th id=\"T_36ffd_level0_col1\" class=\"col_heading level0 col1\" >Element ID</th>\n",
       "    </tr>\n",
       "  </thead>\n",
       "  <tbody>\n",
       "    <tr>\n",
       "      <td id=\"T_36ffd_row0_col0\" class=\"data row0 col0\" >Avionics System</td>\n",
       "      <td id=\"T_36ffd_row0_col1\" class=\"data row0 col1\" >d4a362f9-7a85-4887-9936-4df002c5fcae</td>\n",
       "    </tr>\n",
       "    <tr>\n",
       "      <td id=\"T_36ffd_row1_col0\" class=\"data row1 col0\" >Payload System</td>\n",
       "      <td id=\"T_36ffd_row1_col1\" class=\"data row1 col1\" >aa45735a-6001-4f00-a7f2-ecad5d442d27</td>\n",
       "    </tr>\n",
       "    <tr>\n",
       "      <td id=\"T_36ffd_row2_col0\" class=\"data row2 col0\" >Power System</td>\n",
       "      <td id=\"T_36ffd_row2_col1\" class=\"data row2 col1\" >8ac6138b-e00c-4908-8383-b25ef5dce6b0</td>\n",
       "    </tr>\n",
       "    <tr>\n",
       "      <td id=\"T_36ffd_row3_col0\" class=\"data row3 col0\" >Propulsion System</td>\n",
       "      <td id=\"T_36ffd_row3_col1\" class=\"data row3 col1\" >27e4f855-aa8a-4343-b25c-0c452cfb22ab</td>\n",
       "    </tr>\n",
       "    <tr>\n",
       "      <td id=\"T_36ffd_row4_col0\" class=\"data row4 col0\" >Spacecraft System</td>\n",
       "      <td id=\"T_36ffd_row4_col1\" class=\"data row4 col1\" >00734e2e-565f-4411-8b06-b5c8eab5e178</td>\n",
       "    </tr>\n",
       "  </tbody>\n",
       "</table>\n"
      ],
      "text/plain": [
       "<pandas.io.formats.style.Styler at 0x11909b910>"
      ]
     },
     "metadata": {},
     "output_type": "display_data"
    }
   ],
   "source": [
    "pprint(f\"Fetching elements at commit {commit2_id}\")\n",
    "element_get_url = f\"{host}/projects/{project_id}/commits/{commit2_id}/elements\" \n",
    "\n",
    "element_get_response = requests.get(element_get_url)\n",
    "\n",
    "if element_get_response.status_code == 200:\n",
    "    elements = element_get_response.json()\n",
    "    elements_data = list(map(lambda b: {'Element Name':b['name'], 'Element ID':b['@id']}, elements))\n",
    "    df = pd.DataFrame.from_records(elements_data).sort_values(by='Element Name').style.hide(axis='index')\n",
    "    display(df)\n",
    "else:\n",
    "    pprint(f\"Problem in fetching elements in the Spacecraft project {project_id} at commit {commit2_id}\")\n",
    "    pprint(element_get_response)"
   ]
  },
  {
   "cell_type": "markdown",
   "id": "709da2f5",
   "metadata": {},
   "source": [
    "# Get all elements as of the latest commit on develop branch"
   ]
  },
  {
   "cell_type": "code",
   "execution_count": 135,
   "id": "7363546d",
   "metadata": {},
   "outputs": [
    {
     "name": "stdout",
     "output_type": "stream",
     "text": [
      "'Fetching elements at commit 5665c584-4474-4599-8b74-46c3c647a2cf'\n"
     ]
    },
    {
     "data": {
      "text/html": [
       "<style type=\"text/css\">\n",
       "</style>\n",
       "<table id=\"T_720f8\">\n",
       "  <thead>\n",
       "    <tr>\n",
       "      <th id=\"T_720f8_level0_col0\" class=\"col_heading level0 col0\" >Element Name</th>\n",
       "      <th id=\"T_720f8_level0_col1\" class=\"col_heading level0 col1\" >Element ID</th>\n",
       "    </tr>\n",
       "  </thead>\n",
       "  <tbody>\n",
       "    <tr>\n",
       "      <td id=\"T_720f8_row0_col0\" class=\"data row0 col0\" >Avionics System</td>\n",
       "      <td id=\"T_720f8_row0_col1\" class=\"data row0 col1\" >d4a362f9-7a85-4887-9936-4df002c5fcae</td>\n",
       "    </tr>\n",
       "    <tr>\n",
       "      <td id=\"T_720f8_row1_col0\" class=\"data row1 col0\" >GN & C System</td>\n",
       "      <td id=\"T_720f8_row1_col1\" class=\"data row1 col1\" >27d2c686-7c67-4cc5-99f1-cadc06cd4347</td>\n",
       "    </tr>\n",
       "    <tr>\n",
       "      <td id=\"T_720f8_row2_col0\" class=\"data row2 col0\" >Payload System</td>\n",
       "      <td id=\"T_720f8_row2_col1\" class=\"data row2 col1\" >aa45735a-6001-4f00-a7f2-ecad5d442d27</td>\n",
       "    </tr>\n",
       "    <tr>\n",
       "      <td id=\"T_720f8_row3_col0\" class=\"data row3 col0\" >Power System</td>\n",
       "      <td id=\"T_720f8_row3_col1\" class=\"data row3 col1\" >8ac6138b-e00c-4908-8383-b25ef5dce6b0</td>\n",
       "    </tr>\n",
       "    <tr>\n",
       "      <td id=\"T_720f8_row4_col0\" class=\"data row4 col0\" >Propulsion System</td>\n",
       "      <td id=\"T_720f8_row4_col1\" class=\"data row4 col1\" >27e4f855-aa8a-4343-b25c-0c452cfb22ab</td>\n",
       "    </tr>\n",
       "    <tr>\n",
       "      <td id=\"T_720f8_row5_col0\" class=\"data row5 col0\" >Spacecraft System</td>\n",
       "      <td id=\"T_720f8_row5_col1\" class=\"data row5 col1\" >00734e2e-565f-4411-8b06-b5c8eab5e178</td>\n",
       "    </tr>\n",
       "  </tbody>\n",
       "</table>\n"
      ],
      "text/plain": [
       "<pandas.io.formats.style.Styler at 0x1190963d0>"
      ]
     },
     "metadata": {},
     "output_type": "display_data"
    }
   ],
   "source": [
    "pprint(f\"Fetching elements at commit {commit3_id}\")\n",
    "element_get_url = f\"{host}/projects/{project_id}/commits/{commit3_id}/elements\" \n",
    "\n",
    "element_get_response = requests.get(element_get_url)\n",
    "\n",
    "if element_get_response.status_code == 200:\n",
    "    elements = element_get_response.json()\n",
    "    elements_data = list(map(lambda b: {'Element Name':b['name'], 'Element ID':b['@id']}, elements))\n",
    "    df = pd.DataFrame.from_records(elements_data).sort_values(by='Element Name').style.hide(axis='index')\n",
    "    display(df)\n",
    "else:\n",
    "    pprint(f\"Problem in fetching elements in the Spacecraft project {project_id} at commit {commit3_id}\")\n",
    "    pprint(element_get_response)"
   ]
  },
  {
   "cell_type": "markdown",
   "id": "dbf2f390",
   "metadata": {},
   "source": [
    "# Create a tag at the last commit on develop branch"
   ]
  },
  {
   "cell_type": "code",
   "execution_count": 136,
   "id": "51ee3b57",
   "metadata": {},
   "outputs": [
    {
     "name": "stdout",
     "output_type": "stream",
     "text": [
      "{'@id': '040ddf64-13a9-4bf8-b533-ad831f7862db',\n",
      " '@type': 'Tag',\n",
      " 'created': '2022-11-05T21:02:58.049038-04:00',\n",
      " 'name': 'Spacecraft Internal Release 0.2 build 1',\n",
      " 'owningProject': {'@id': '1cb23e7a-4d70-487e-89ad-1cd8a22efb9e'},\n",
      " 'referencedCommit': {'@id': '5665c584-4474-4599-8b74-46c3c647a2cf'},\n",
      " 'taggedCommit': {'@id': '5665c584-4474-4599-8b74-46c3c647a2cf'}}\n"
     ]
    }
   ],
   "source": [
    "tag_body = {\n",
    "    \"@type\": \"Tag\",\n",
    "    \"name\": \"Spacecraft Internal Release 0.2 build 1\",\n",
    "    \"taggedCommit\": {\n",
    "      \"@id\": commit3_id\n",
    "    }\n",
    "}\n",
    "\n",
    "tag_post_url = f\"{host}/projects/{project_id}/tags\" \n",
    "\n",
    "tag_post_response = requests.post(tag_post_url, \n",
    "                                  headers={\"Content-Type\": \"application/json\"}, \n",
    "                                  data=json.dumps(tag_body))\n",
    "\n",
    "tag1_id = \"\"\n",
    "\n",
    "if tag_post_response.status_code == 200:\n",
    "    tag_response_json = tag_post_response.json()\n",
    "    pprint(tag_response_json)\n",
    "    tag1_id = tag_response_json['@id']\n",
    "else:\n",
    "    pprint(f\"Problem in creating a new tag in Spacecraft project {project_id}.\")\n",
    "    pprint(tag_post_response)"
   ]
  },
  {
   "cell_type": "markdown",
   "id": "37e0bb0c",
   "metadata": {},
   "source": [
    "# Get all tags"
   ]
  },
  {
   "cell_type": "code",
   "execution_count": 137,
   "id": "86b17574",
   "metadata": {},
   "outputs": [
    {
     "data": {
      "text/html": [
       "<style type=\"text/css\">\n",
       "</style>\n",
       "<table id=\"T_b2036\">\n",
       "  <thead>\n",
       "    <tr>\n",
       "      <th id=\"T_b2036_level0_col0\" class=\"col_heading level0 col0\" >Tag Name</th>\n",
       "      <th id=\"T_b2036_level0_col1\" class=\"col_heading level0 col1\" >Tag ID</th>\n",
       "      <th id=\"T_b2036_level0_col2\" class=\"col_heading level0 col2\" >Tagged Commit</th>\n",
       "    </tr>\n",
       "  </thead>\n",
       "  <tbody>\n",
       "    <tr>\n",
       "      <td id=\"T_b2036_row0_col0\" class=\"data row0 col0\" >Spacecraft Internal Release 0.2 build 1</td>\n",
       "      <td id=\"T_b2036_row0_col1\" class=\"data row0 col1\" >040ddf64-13a9-4bf8-b533-ad831f7862db</td>\n",
       "      <td id=\"T_b2036_row0_col2\" class=\"data row0 col2\" >{'@id': '5665c584-4474-4599-8b74-46c3c647a2cf'}</td>\n",
       "    </tr>\n",
       "    <tr>\n",
       "      <td id=\"T_b2036_row1_col0\" class=\"data row1 col0\" >Spacecraft Internal Release 0.1</td>\n",
       "      <td id=\"T_b2036_row1_col1\" class=\"data row1 col1\" >65b1977d-bc03-4a94-be41-2ed85eda65ed</td>\n",
       "      <td id=\"T_b2036_row1_col2\" class=\"data row1 col2\" >{'@id': '118e6f99-cde1-41fb-8f93-928fe6fa4be0'}</td>\n",
       "    </tr>\n",
       "  </tbody>\n",
       "</table>\n"
      ],
      "text/plain": [
       "<pandas.io.formats.style.Styler at 0x11907e130>"
      ]
     },
     "metadata": {},
     "output_type": "display_data"
    }
   ],
   "source": [
    "tags_url = f\"{host}/projects/{project_id}/tags\" \n",
    "tags_response = requests.get(tags_url)\n",
    "\n",
    "if tags_response.status_code == 200:\n",
    "    tags = tags_response.json()\n",
    "    tags_data = list(map(lambda b: {'Tag Name':b['name'], 'Tag ID':b['@id'], 'Tagged Commit':b['taggedCommit']}, tags))\n",
    "\n",
    "    df = pd.DataFrame.from_records(tags_data).style.hide(axis='index')\n",
    "    display(df)\n",
    "else:\n",
    "    pprint(f\"Problem in fetching tags in Spacecraft project {project_id}.\")\n",
    "    pprint(tag_post_response)"
   ]
  },
  {
   "cell_type": "code",
   "execution_count": null,
   "id": "50642917",
   "metadata": {},
   "outputs": [],
   "source": []
  }
 ],
 "metadata": {
  "kernelspec": {
   "display_name": "Python 3 (ipykernel)",
   "language": "python",
   "name": "python3"
  },
  "language_info": {
   "codemirror_mode": {
    "name": "ipython",
    "version": 3
   },
   "file_extension": ".py",
   "mimetype": "text/x-python",
   "name": "python",
   "nbconvert_exporter": "python",
   "pygments_lexer": "ipython3",
   "version": "3.10.9"
  }
 },
 "nbformat": 4,
 "nbformat_minor": 5
}
